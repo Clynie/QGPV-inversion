{
 "cells": [
  {
   "cell_type": "markdown",
   "metadata": {},
   "source": [
    "# PLOT SEA LEVEL PRESSURE AND 1000-500 THICKNESS"
   ]
  },
  {
   "cell_type": "code",
   "execution_count": 1,
   "metadata": {},
   "outputs": [],
   "source": [
    "from netCDF4 import Dataset\n",
    "import numpy as np\n",
    "import matplotlib.pyplot as plt\n",
    "from matplotlib.cm import get_cmap\n",
    "import cartopy.crs as crs\n",
    "from cartopy.feature import NaturalEarthFeature\n",
    "import metpy.calc as mpcalc\n",
    "from metpy.units import units\n",
    "import sys\n",
    "import time\n",
    "\n",
    "from wrf import (getvar, interplevel, to_np, latlon_coords, get_cartopy,\n",
    "                 cartopy_xlim, cartopy_ylim, extract_times, ALL_TIMES, interpz3d, g_geoht,vinterp)"
   ]
  },
  {
   "cell_type": "code",
   "execution_count": 2,
   "metadata": {},
   "outputs": [],
   "source": [
    "def plot_maxmin_points(lon, lat, data, extrema, nsize, symbol, color='k',\n",
    "                     plotValue=True, transform=None):\n",
    "    \"\"\"\n",
    "    This function will find and plot relative maximum and minimum for a 2D grid. The function\n",
    "    can be used to plot an H for maximum values (e.g., High pressure) and an L for minimum\n",
    "    values (e.g., low pressue). It is best to used filetered data to obtain  a synoptic scale\n",
    "    max/min value. The symbol text can be set to a string value and optionally the color of the\n",
    "    symbol and any plotted value can be set with the parameter color\n",
    "    lon = plotting longitude values (2D)\n",
    "    lat = plotting latitude values (2D)\n",
    "    data = 2D data that you wish to plot the max/min symbol placement\n",
    "    extrema = Either a value of max for Maximum Values or min for Minimum Values\n",
    "    nsize = Size of the grid box to filter the max and min values to plot a reasonable number\n",
    "    symbol = String to be placed at location of max/min value\n",
    "    color = String matplotlib colorname to plot the symbol (and numerica value, if plotted)\n",
    "    plot_value = Boolean (True/False) of whether to plot the numeric value of max/min point\n",
    "    The max/min symbol will be plotted on the current axes within the bounding frame\n",
    "    (e.g., clip_on=True)\n",
    "    \"\"\"\n",
    "    from scipy.ndimage.filters import maximum_filter, minimum_filter\n",
    "\n",
    "    if (extrema == 'max'):\n",
    "        data_ext = maximum_filter(data, nsize, mode='nearest')\n",
    "    elif (extrema == 'min'):\n",
    "        data_ext = minimum_filter(data, nsize, mode='nearest')\n",
    "    else:\n",
    "        raise ValueError('Value for hilo must be either max or min')\n",
    "\n",
    "    mxy, mxx = np.where(data_ext == data)\n",
    "\n",
    "    for i in range(len(mxy)):\n",
    "        ax.text(lon[mxy[i], mxx[i]], lat[mxy[i], mxx[i]], symbol, color=color, size=24,\n",
    "                clip_on=True, horizontalalignment='center', verticalalignment='center',\n",
    "                transform=transform)\n",
    "        ax.text(lon[mxy[i], mxx[i]], lat[mxy[i], mxx[i]],\n",
    "                '\\n' + str(np.int(data[mxy[i], mxx[i]])),\n",
    "                color=color, size=12, clip_on=True, fontweight='bold',\n",
    "                horizontalalignment='center', verticalalignment='top', transform=transform)"
   ]
  },
  {
   "cell_type": "code",
   "execution_count": 3,
   "metadata": {},
   "outputs": [],
   "source": [
    "#Define type of tile and desired pressure level\n",
    "#fullphys_expdom or nolatentheat_expdom\n",
    "filetype = \"nolatentheat_expdom\"                                   #CHANGE"
   ]
  },
  {
   "cell_type": "code",
   "execution_count": 4,
   "metadata": {},
   "outputs": [],
   "source": [
    "# Open the NetCDF file\n",
    "ncfile = Dataset(\"wrfout_\"+filetype+\".nc\", \"r\")\n",
    "\n",
    "# Extract the pressure, geopotential height, and wind variables\n",
    "pressure = getvar(ncfile, \"pressure\",timeidx=ALL_TIMES)\n",
    "z = getvar(ncfile, \"z\", timeidx=ALL_TIMES,units=\"m\")\n",
    "thta = getvar(ncfile, \"th\",timeidx=ALL_TIMES)\n",
    "tmpk = getvar(ncfile, \"tk\",timeidx=ALL_TIMES)\n",
    "ua = getvar(ncfile, \"ua\", timeidx=ALL_TIMES, units=\"kt\")\n",
    "va = getvar(ncfile, \"va\", timeidx=ALL_TIMES, units=\"kt\")\n",
    "slp = getvar(ncfile, \"slp\", timeidx = ALL_TIMES, units=\"hPa\")"
   ]
  },
  {
   "cell_type": "code",
   "execution_count": 5,
   "metadata": {},
   "outputs": [],
   "source": [
    "#Define constants\n",
    "R = 287.05 #J kg^-1 K^-1\n",
    "kappa=0.2856219 #Rd / cp\n",
    "cp = 1004.7 #J kg^-1 K^-1\n",
    "pref = 1000. #hPa\n",
    "g = 9.80665 #gravity\n",
    "omega = 7.292e-5 #Earth's rotation rate (s^-1)\n",
    "a = 2.e7 / np.pi #Radius of the earth (m)\n",
    "p0=1.e5\n",
    "alpha=-1./5.255877\n",
    "gamma = 0.0065 #lapse rate, (K/m)"
   ]
  },
  {
   "cell_type": "code",
   "execution_count": 6,
   "metadata": {},
   "outputs": [],
   "source": [
    "#Define pressure level array\n",
    "pb = 1000. #base pressure\n",
    "pb_half = 975.\n",
    "pt = 100. #top pressure\n",
    "pt_half = 125.\n",
    "p = np.linspace(pb,pt,19) #make array of size 19 with even spacing from base pressure to top pressure\n",
    "#p_half = np.linspace(pb_half,pt_half,18)\n",
    "delp = (p[0] - p[1]) * 100. #Convert to Pa"
   ]
  },
  {
   "cell_type": "code",
   "execution_count": 7,
   "metadata": {},
   "outputs": [],
   "source": [
    "#Manually define phalf based on length of k and pressure values\n",
    "phalf = np.zeros((len(p)-1))\n",
    "for i in range(len(p)-1):\n",
    "    phalf[i] = (p[i+1] + p[i]) / 2."
   ]
  },
  {
   "cell_type": "code",
   "execution_count": 8,
   "metadata": {},
   "outputs": [],
   "source": [
    "#Bounds for inversion\n",
    "lat1 = 30. #Southern boundary\n",
    "lat2 = 70. #Northern boundary\n",
    "lon1 = 150. #Western boundary\n",
    "lon2 = 250. #Eastern boundary\n",
    "dlat = lat2 - lat1\n",
    "dlon = lon2 - lon1\n",
    "dellatstar = (np.pi/180.) * a\n",
    "dellonstar = (np.pi/180.) * a\n",
    "sigma1 = dellonstar / dellatstar\n",
    "sigma2 = dellonstar / delp"
   ]
  },
  {
   "cell_type": "code",
   "execution_count": 9,
   "metadata": {},
   "outputs": [],
   "source": [
    "#Get times from dataset\n",
    "times = extract_times(ncfile, None)\n",
    "count = np.count_nonzero(times)\n",
    "#Set t, k, i, j indice lengths\n",
    "tlen = len(times)\n",
    "klen = len(p)\n",
    "ilen = np.shape(z[:,:,:,:])[2] #This is really the j index (north-south index)\n",
    "jlen = np.shape(z[:,:,:,:])[3] #This is really the i index (east-west index)"
   ]
  },
  {
   "cell_type": "code",
   "execution_count": 10,
   "metadata": {},
   "outputs": [],
   "source": [
    "hght = np.zeros((tlen, klen, ilen, jlen))\n",
    "levels = [1000,950,900,850,800,750,700,650,600,550,500,450,400,350,300,250,200,150,100]\n",
    "for t in range(tlen):\n",
    "    hght[t,:,:,:] = vinterp(ncfile,field=z[t,:,:,:],vert_coord='p',interp_levels=levels,extrapolate=True, log_p=True, field_type='z',timeidx=t)"
   ]
  },
  {
   "cell_type": "code",
   "execution_count": 11,
   "metadata": {},
   "outputs": [],
   "source": [
    "lat = getvar(ncfile, \"lat\")\n",
    "lon = getvar(ncfile, \"lon\")"
   ]
  },
  {
   "cell_type": "code",
   "execution_count": 12,
   "metadata": {},
   "outputs": [],
   "source": [
    "latmax = float(np.max(lat))\n",
    "latmin = float(np.min(lat))\n",
    "lonmax = float(np.max(lon))\n",
    "lonmin = float(np.min(lon))"
   ]
  },
  {
   "cell_type": "code",
   "execution_count": 13,
   "metadata": {},
   "outputs": [],
   "source": [
    "lat = np.arange(latmin,latmax,((latmax-latmin)/jlen))\n",
    "lon = np.arange(lonmin,lonmax,((lonmax-lonmin)/ilen))\n",
    "lenlat = len(lat)\n",
    "lenlon = len(lon)"
   ]
  },
  {
   "cell_type": "code",
   "execution_count": 14,
   "metadata": {},
   "outputs": [],
   "source": [
    "#Calculate Coriolis parameter\n",
    "lenlat = len(lat)\n",
    "cor = np.zeros((lenlat))\n",
    "for j in range(lenlat):\n",
    "    cor[j] = 2. * omega * np.sin(lat[j]*(np.pi / 180.)) # degrees to radians"
   ]
  },
  {
   "cell_type": "code",
   "execution_count": 15,
   "metadata": {},
   "outputs": [],
   "source": [
    "#Calculate Rossby parameter (beta), variation in Coriolis force with respect to changing latitude\n",
    "beta = np.zeros((lenlat))\n",
    "for j in range(lenlat):\n",
    "    beta[j] = (2. * omega / a) * np.cos(lat[j] * (np.pi / 180.))"
   ]
  },
  {
   "cell_type": "code",
   "execution_count": 16,
   "metadata": {},
   "outputs": [],
   "source": [
    "#Calculate mean Coriolis Parameter weighted by latitude\n",
    "fo = 0.\n",
    "for j in range(lenlat):\n",
    "    fo = fo + (cor[j] / (dlat+1)) #fo = fo + (cor[j] / (jlen-1))"
   ]
  },
  {
   "cell_type": "code",
   "execution_count": 17,
   "metadata": {},
   "outputs": [],
   "source": [
    "#Format times to be in standard format\n",
    "dattimes = []\n",
    "import pandas as pd\n",
    "for i in range (0, count):\n",
    "    dattimes.append(str(pd.Timestamp(times[i])))"
   ]
  },
  {
   "cell_type": "code",
   "execution_count": 18,
   "metadata": {},
   "outputs": [],
   "source": [
    "thick = hght[:,10,:,:] - hght[:,0,:,:] #10 is 500 hPa, 0 is 1000 hPa"
   ]
  },
  {
   "cell_type": "code",
   "execution_count": 20,
   "metadata": {},
   "outputs": [],
   "source": [
    "lats, lons = latlon_coords(z)\n",
    "dx, dy = mpcalc.lat_lon_grid_deltas(lons, lats)"
   ]
  },
  {
   "cell_type": "code",
   "execution_count": 21,
   "metadata": {},
   "outputs": [],
   "source": [
    "lats = np.asarray(lats)\n",
    "lons = np.asarray(lons)"
   ]
  },
  {
   "cell_type": "code",
   "execution_count": 22,
   "metadata": {},
   "outputs": [],
   "source": [
    "lats_redo = lats\n",
    "lons_redo = lons"
   ]
  },
  {
   "cell_type": "code",
   "execution_count": 23,
   "metadata": {},
   "outputs": [],
   "source": [
    "for i in range(ilen):\n",
    "    for j in range(jlen):\n",
    "        if lons_redo[i,j] < 0.0:\n",
    "            lons_redo[i,j] = lons_redo[i,j] + 360.\n",
    "        else:\n",
    "            lons_redo[i,j] = lons_redo[i,j]"
   ]
  },
  {
   "cell_type": "code",
   "execution_count": 24,
   "metadata": {},
   "outputs": [],
   "source": [
    "from scipy.ndimage.filters import gaussian_filter"
   ]
  },
  {
   "cell_type": "code",
   "execution_count": 26,
   "metadata": {},
   "outputs": [
    {
     "name": "stdout",
     "output_type": "stream",
     "text": [
      "Working on time:  2019-11-25 12:00:00\n",
      "Working on time:  2019-11-25 15:00:00\n",
      "Working on time:  2019-11-25 18:00:00\n",
      "Working on time:  2019-11-25 21:00:00\n",
      "Working on time:  2019-11-26 00:00:00\n",
      "Working on time:  2019-11-26 03:00:00\n",
      "Working on time:  2019-11-26 06:00:00\n",
      "Working on time:  2019-11-26 09:00:00\n",
      "Working on time:  2019-11-26 12:00:00\n",
      "Working on time:  2019-11-26 15:00:00\n",
      "Working on time:  2019-11-26 18:00:00\n",
      "Working on time:  2019-11-26 21:00:00\n",
      "Working on time:  2019-11-27 00:00:00\n",
      "Working on time:  2019-11-27 03:00:00\n",
      "Working on time:  2019-11-27 06:00:00\n",
      "Working on time:  2019-11-27 09:00:00\n",
      "Working on time:  2019-11-27 12:00:00\n",
      "Working on time:  2019-11-27 15:00:00\n",
      "Working on time:  2019-11-27 18:00:00\n",
      "Working on time:  2019-11-27 21:00:00\n",
      "Working on time:  2019-11-28 00:00:00\n"
     ]
    }
   ],
   "source": [
    "#PLOTTING FOR sea level pressure\n",
    "for i in range (0,count):\n",
    "    print(\"Working on time: \", dattimes[i])\n",
    "    \n",
    "    # Get the map projection information\n",
    "    cart_proj = get_cartopy(wrfin=ncfile)\n",
    "    \n",
    "    lats, lons = latlon_coords(z)\n",
    "    dx, dy = mpcalc.lat_lon_grid_deltas(lons, lats)\n",
    "    \n",
    "    # Create the figure\n",
    "    fig = plt.figure(figsize=(12,9))\n",
    "    ax = plt.axes(projection=cart_proj)\n",
    "    # Download and add the states and coastlines\n",
    "    states = NaturalEarthFeature(category=\"cultural\", scale=\"50m\",\n",
    "                             facecolor=\"none\",\n",
    "                             name=\"admin_1_states_provinces_shp\")\n",
    "    ax.add_feature(states, linewidth=0.5, edgecolor=\"black\")\n",
    "    ax.coastlines('50m', linewidth=0.8)\n",
    "    \n",
    "    #Plot qgpvmean\n",
    "    tmp1 = np.squeeze(slp[i,:,:])\n",
    "    tmp2 = np.squeeze(thick[i,:,:])\n",
    "    \n",
    "    #FOR EASY, COLORFUL VISUALIZATION\n",
    "    #qgcs = plt.pcolormesh(to_np(lons), to_np(lats), to_np(tmp1), vmin = 8750., vmax=10000.,\n",
    "                                   #cmap = \"bwr\", transform=crs.PlateCarree())\n",
    "    #plt.colorbar(qgcs, ax=ax, orientation=\"horizontal\", pad=.05)\n",
    "    \n",
    "    #FOR PROPER, PAPER-READY PLOTS\n",
    "    levels = np.arange(960.,1060.,4)\n",
    "    qgcs = plt.contour(to_np(lons_redo), to_np(lats_redo), gaussian_filter(to_np(tmp1),3),levels=levels, transform=crs.PlateCarree(), colors = \"black\")\n",
    "    plt.clabel(qgcs, fmt='%.1f', fontsize=10.,inline=True)\n",
    "    \n",
    "    # Plot thickness with multiple colors\n",
    "    clevs = (np.arange(0, 5400, 60),\n",
    "             np.array([5400]),\n",
    "             np.arange(5460, 7000, 60))\n",
    "    colors = ('tab:blue', 'b', 'tab:red')\n",
    "    kw_clabels = {'fontsize': 11, 'inline': True, 'inline_spacing': 5, 'fmt': '%i',\n",
    "                  'rightside_up': True, 'use_clabeltext': True}\n",
    "    for clevthick, color in zip(clevs, colors):\n",
    "        cs = ax.contour(to_np(lons_redo), to_np(lats_redo), gaussian_filter(to_np(tmp2),3), levels=clevthick, colors=color,\n",
    "                    linewidths=1.0, linestyles='dashed', transform=crs.PlateCarree())\n",
    "        plt.clabel(cs, **kw_clabels)\n",
    "        \n",
    "    # Use definition to plot H/L symbols\n",
    "    plot_maxmin_points(to_np(lons_redo), to_np(lats_redo), gaussian_filter(to_np(tmp1),3), 'max', 50, symbol='H', color='b',  transform=crs.PlateCarree())\n",
    "    plot_maxmin_points(to_np(lons_redo), to_np(lats_redo), gaussian_filter(to_np(tmp1),3), 'min', 25, symbol='L', color='r', transform=crs.PlateCarree())\n",
    "    \n",
    "    # Set the map bounds\n",
    "    ax.set_xlim(cartopy_xlim(z))\n",
    "    ax.set_ylim(cartopy_ylim(z))\n",
    "    \n",
    "    #Zoom-in option\n",
    "    #ax.set_extent([-150, -110, 40, 60]) #lon,lon,lat,lat\n",
    "\n",
    "    ax.gridlines(color=\"black\", linestyle=\"dotted\")\n",
    "\n",
    "    ax.set_title('WRF Sea Level Pressure (hPa) and 1000-500 hPa Thickness (m) \\n Valid Time: {} UTC'.format(dattimes[i]))\n",
    "    \n",
    "    plt.savefig('plots/sfc/SFC_'+filetype+'_{}.pdf'.format(dattimes[i]))\n",
    "    plt.close()"
   ]
  },
  {
   "cell_type": "code",
   "execution_count": null,
   "metadata": {},
   "outputs": [],
   "source": []
  }
 ],
 "metadata": {
  "kernelspec": {
   "display_name": "Python 3",
   "language": "python",
   "name": "python3"
  },
  "language_info": {
   "codemirror_mode": {
    "name": "ipython",
    "version": 3
   },
   "file_extension": ".py",
   "mimetype": "text/x-python",
   "name": "python",
   "nbconvert_exporter": "python",
   "pygments_lexer": "ipython3",
   "version": "3.7.3"
  }
 },
 "nbformat": 4,
 "nbformat_minor": 4
}
