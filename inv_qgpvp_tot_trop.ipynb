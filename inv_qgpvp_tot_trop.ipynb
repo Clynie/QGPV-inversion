{
 "cells": [
  {
   "cell_type": "markdown",
   "metadata": {},
   "source": [
    "# INVERT TOTAL TROPOSPHERIC QGPVP"
   ]
  },
  {
   "cell_type": "code",
   "execution_count": 1,
   "metadata": {},
   "outputs": [],
   "source": [
    "from netCDF4 import Dataset\n",
    "import numpy as np\n",
    "import matplotlib.pyplot as plt\n",
    "from matplotlib.cm import get_cmap\n",
    "import cartopy.crs as crs\n",
    "from cartopy.feature import NaturalEarthFeature\n",
    "import metpy.calc as mpcalc\n",
    "from metpy.units import units\n",
    "import sys\n",
    "import time\n",
    "\n",
    "from wrf import (getvar, interplevel, to_np, latlon_coords, get_cartopy,\n",
    "                 cartopy_xlim, cartopy_ylim, extract_times, ALL_TIMES, interpz3d, vinterp)"
   ]
  },
  {
   "cell_type": "code",
   "execution_count": 2,
   "metadata": {},
   "outputs": [],
   "source": [
    "#Define type of tile and desired pressure level\n",
    "#fullphys_expdom or nolatentheat_expdom\n",
    "filetype = \"nolatentheat_expdom\"                                   #CHANGE\n",
    "levtitle = \"300\""
   ]
  },
  {
   "cell_type": "code",
   "execution_count": 3,
   "metadata": {},
   "outputs": [],
   "source": [
    "# Open the NetCDF file\n",
    "ncfile = Dataset(\"wrfout_\"+filetype+\".nc\", \"r\")\n",
    "\n",
    "# Extract the pressure, geopotential height, and wind variables\n",
    "pressure = getvar(ncfile, \"pressure\",timeidx=ALL_TIMES)\n",
    "z = getvar(ncfile, \"z\", timeidx=ALL_TIMES)\n",
    "thta = getvar(ncfile, \"th\",timeidx=ALL_TIMES)\n",
    "tmpk = getvar(ncfile, \"tk\",timeidx=ALL_TIMES)\n",
    "ua = getvar(ncfile, \"ua\", timeidx=ALL_TIMES, units=\"kt\")\n",
    "va = getvar(ncfile, \"va\", timeidx=ALL_TIMES, units=\"kt\")"
   ]
  },
  {
   "cell_type": "code",
   "execution_count": 4,
   "metadata": {},
   "outputs": [],
   "source": [
    "import pickle\n",
    "# Getting back the objects:\n",
    "with open('qgpv_vars_'+levtitle+'_'+filetype+'.pkl', 'rb') as f:\n",
    "    qgpv, qgpvp, qgpvmean, geop, geopp, geopmean, uamean, vamean, uamean_spec, vamean_spec, SAgeop, SAtmpk, stability = pickle.load(f)"
   ]
  },
  {
   "cell_type": "code",
   "execution_count": 5,
   "metadata": {},
   "outputs": [],
   "source": [
    "#Define constants\n",
    "R = 287.05 #J kg^-1 K^-1\n",
    "kappa=0.2856219 #Rd / cp\n",
    "cp = 1004.7 #J kg^-1 K^-1\n",
    "pref = 1000. #hPa\n",
    "g = 9.80665 #gravity\n",
    "omega = 7.292e-5 #Earth's rotation rate (s^-1)\n",
    "a = 2.e7 / np.pi #Radius of the earth (m)\n",
    "p0=1.e5\n",
    "alpha=-1./5.255877\n",
    "gamma = 0.0065 #lapse rate, (K/m)"
   ]
  },
  {
   "cell_type": "code",
   "execution_count": 6,
   "metadata": {},
   "outputs": [],
   "source": [
    "#Define pressure level array\n",
    "pb = 1000. #base pressure\n",
    "pb_half = 975.\n",
    "pt = 100. #top pressure\n",
    "pt_half = 125.\n",
    "p = np.linspace(pb,pt,19) #make array of size 19 with even spacing from base pressure to top pressure\n",
    "#p_half = np.linspace(pb_half,pt_half,18)\n",
    "delp = (p[0] - p[1]) * 100. #Convert to hPa"
   ]
  },
  {
   "cell_type": "code",
   "execution_count": 7,
   "metadata": {},
   "outputs": [],
   "source": [
    "#Manually define phalf based on length of k and pressure values\n",
    "phalf = np.zeros((len(p)-1))\n",
    "for i in range(len(p)-1):\n",
    "    phalf[i] = (p[i+1] + p[i]) / 2."
   ]
  },
  {
   "cell_type": "code",
   "execution_count": 8,
   "metadata": {},
   "outputs": [],
   "source": [
    "#Bounds for inversion\n",
    "lat1 = 30. #Southern boundary\n",
    "lat2 = 70. #Northern boundary\n",
    "lon1 = 150. #Western boundary\n",
    "lon2 = 250. #Eastern boundary\n",
    "dlat = lat2 - lat1\n",
    "dlon = lon2 - lon1\n",
    "dellatstar = (np.pi/180.) * a\n",
    "dellonstar = (np.pi/180.) * a\n",
    "sigma1 = dellonstar / dellatstar\n",
    "sigma2 = dellonstar / delp"
   ]
  },
  {
   "cell_type": "code",
   "execution_count": 9,
   "metadata": {},
   "outputs": [],
   "source": [
    "#Get times from dataset\n",
    "times = extract_times(ncfile, None)\n",
    "count = np.count_nonzero(times)\n",
    "#Set t, k, i, j indice lengths\n",
    "tlen = len(times)\n",
    "klen = len(p)\n",
    "ilen = np.shape(qgpvp[:,:,:,:])[2] #This is really the j index (north-south index)\n",
    "jlen = np.shape(qgpvp[:,:,:,:])[3] #This is really the i index (east-west index)"
   ]
  },
  {
   "cell_type": "code",
   "execution_count": 10,
   "metadata": {},
   "outputs": [],
   "source": [
    "hght = np.zeros((tlen, klen, ilen, jlen))\n",
    "levels = [1000,950,900,850,800,750,700,650,600,550,500,450,400,350,300,250,200,150,100]\n",
    "for t in range(tlen):\n",
    "    hght[t,:,:,:] = vinterp(ncfile,field=z[t,:,:,:],vert_coord='p',interp_levels=levels,extrapolate=True, field_type='z')"
   ]
  },
  {
   "cell_type": "code",
   "execution_count": 11,
   "metadata": {},
   "outputs": [],
   "source": [
    "lat = getvar(ncfile, \"lat\")\n",
    "lon = getvar(ncfile, \"lon\")"
   ]
  },
  {
   "cell_type": "code",
   "execution_count": 12,
   "metadata": {},
   "outputs": [],
   "source": [
    "latmax = float(np.max(lat))\n",
    "latmin = float(np.min(lat))\n",
    "lonmax = float(np.max(lon))\n",
    "lonmin = float(np.min(lon))"
   ]
  },
  {
   "cell_type": "code",
   "execution_count": 13,
   "metadata": {},
   "outputs": [],
   "source": [
    "lat = np.arange(latmin,latmax,((latmax-latmin)/jlen))\n",
    "lon = np.arange(lonmin,lonmax,((lonmax-lonmin)/ilen))\n",
    "lenlat = len(lat)\n",
    "lenlon = len(lon)"
   ]
  },
  {
   "cell_type": "code",
   "execution_count": 14,
   "metadata": {},
   "outputs": [],
   "source": [
    "#Calculate Coriolis parameter\n",
    "lenlat = len(lat)\n",
    "cor = np.zeros((lenlat))\n",
    "for j in range(lenlat):\n",
    "    cor[j] = 2. * omega * np.sin(lat[j]*(np.pi / 180.)) # degrees to radians"
   ]
  },
  {
   "cell_type": "code",
   "execution_count": 15,
   "metadata": {},
   "outputs": [],
   "source": [
    "#Calculate Rossby parameter (beta), variation in Coriolis force with respect to changing latitude\n",
    "beta = np.zeros((lenlat))\n",
    "for j in range(lenlat):\n",
    "    beta[j] = (2. * omega / a) * np.cos(lat[j] * (np.pi / 180.))"
   ]
  },
  {
   "cell_type": "code",
   "execution_count": 16,
   "metadata": {},
   "outputs": [],
   "source": [
    "#Calculate mean Coriolis Parameter weighted by latitude\n",
    "fo = 0.\n",
    "for j in range(lenlat):\n",
    "    fo = fo + (cor[j] / (dlat+1)) #fo = fo + (cor[j] / (jlen-1))"
   ]
  },
  {
   "cell_type": "code",
   "execution_count": 17,
   "metadata": {},
   "outputs": [],
   "source": [
    "#Format times to be in standard format\n",
    "dattimes = []\n",
    "import pandas as pd\n",
    "for i in range (0, count):\n",
    "    dattimes.append(str(pd.Timestamp(times[i])))"
   ]
  },
  {
   "cell_type": "markdown",
   "metadata": {},
   "source": [
    "## Calculate QGPV coefficients"
   ]
  },
  {
   "cell_type": "code",
   "execution_count": 18,
   "metadata": {},
   "outputs": [],
   "source": [
    "cosPoint = np.zeros((lenlat))\n",
    "cosPlus = np.zeros((lenlat)) \n",
    "cosPlushalf = np.zeros((lenlat)) \n",
    "cosMinus = np.zeros((lenlat)) \n",
    "cosMinushalf = np.zeros((lenlat))\n",
    "\n",
    "for i in range(lenlat):\n",
    "    cosPoint[i] = np.cos(lat[i] * (np.pi / 180.))\n",
    "    cosPlus[i] = np.cos((lat[i] + 1.0) * np.pi / 180.)\n",
    "    cosPlushalf[i] = np.cos((lat[i] + 0.5) * np.pi / 180.)\n",
    "    cosMinus[i] = np.cos((lat[i] - 1.0) * np.pi / 180.)\n",
    "    cosMinushalf[i] = np.cos((lat[i] - 0.5) * np.pi / 180.) "
   ]
  },
  {
   "cell_type": "code",
   "execution_count": 19,
   "metadata": {},
   "outputs": [],
   "source": [
    "#Coefficients on relative vorticity\n",
    "A1_rel = np.zeros((lenlat))\n",
    "A2_rel = np.zeros((lenlat))\n",
    "A3_rel = np.zeros((lenlat))\n",
    "A4_rel = np.zeros((lenlat))\n",
    "A5_rel = np.zeros((lenlat))\n",
    "\n",
    "for j in range(lenlat):\n",
    "    A1_rel[j] = 1. / ((cosPoint[j] * dellonstar) ** 2.) # goes on phi(k,i-1,j)\n",
    "    A2_rel[j] = cosMinushalf[j]/(cosPoint[j]*dellatstar ** 2.) # goes on phi(k,i,j-1)\n",
    "    A3_rel[j] = (-2. / (cosPoint[j] * dellonstar) ** 2.) - (cosPlushalf[j] / (cosPoint[j] * dellatstar ** 2.)) - (cosMinushalf[j] / (cosPoint[j] * dellatstar ** 2.)) #goes on phi(k,i,j)\n",
    "    A4_rel[j] = 1. / ((cosPoint[j] * dellonstar) ** 2.) # goes on phi(k,i+1,j) \n",
    "    A5_rel[j] = cosPlushalf[j] / (cosPoint[j] * dellatstar ** 2.) # goes on phi(k,i,j+1)\n",
    "    \n",
    "    "
   ]
  },
  {
   "cell_type": "code",
   "execution_count": 20,
   "metadata": {},
   "outputs": [],
   "source": [
    "#Coefficients for QGPV\n",
    "A1_qgpv = np.zeros((lenlat)) # goes on phi(t,j,i-1,k)\n",
    "A2_qgpv = np.zeros((lenlat))\n",
    "A2i_qgpv = np.zeros((lenlat)) # goes on phi(t,j-1,i,k)\n",
    "A3_qgpv = np.zeros((len(p), lenlat)) # goes on phi(t,j,i,k) has parts in vert, meridional\n",
    "A3i_qgpv = np.zeros((len(p), lenlat)) # goes on phi(t,j,i,k) has parts in vert, meridional\n",
    "A4_qgpv = np.zeros((lenlat)) # goes on phi(t,j+1,i,k)\n",
    "A4i_qgpv = np.zeros((lenlat)) # goes on phi(t,j+1,i,k)\n",
    "A5_qgpv= np.zeros((lenlat)) # goes on phi(t,j,i+1,k) \n",
    "A6_qgpv = np.zeros((len(p))) # goes on phi(t,j,i,k-1) \n",
    "A7_qgpv = np.zeros((len(p))) # goes on phi(t,j,i,k+1) \n",
    "A8_qgpv = dellonstar ** 2. # goes on q-f \n",
    "\n",
    "    \n",
    "for k in range(2,len(p)-1):\n",
    "    \n",
    "    A6_qgpv[k] = (fo * sigma2 ** 2.) / stability[k-1] \n",
    "    A7_qgpv[k] = (fo * sigma2 ** 2.) / stability[k]\n",
    "                   \n",
    "    for j in range(lenlat):\n",
    "        A1_qgpv[j] = 1. / (fo * cosPoint[j] ** 2.) \n",
    "        A2_qgpv[j] = (sigma1 ** 2.) * cosMinus[j] / (fo * cosPoint[j])\n",
    "        A2i_qgpv[j] = (sigma1 ** 2.) * cosMinushalf[j] / (fo * cosPoint[j]) \n",
    "        A4_qgpv[j] = ((sigma1 ** 2.) * cosPlus[j] / (fo * cosPoint[j]))\n",
    "        A4i_qgpv[j] = ((sigma1 ** 2.) * cosPlushalf[j] / (fo * cosPoint[j])) \n",
    "        A5_qgpv[j] = 1. / (fo * cosPoint[j] ** 2.)\n",
    "                   \n",
    "        A3_qgpv[k,j] = -1. * ((2. / (fo * cosPoint[j] ** 2.)) + ((sigma1 ** 2.) / fo) * ((cosPlus[j] / cosPoint[j]) + (cosMinus[j] / cosPoint[j])) + ((4. * fo * sigma2 ** 2.) * ((1. / stability[k-1]) + (1. / stability[k])))) \n",
    "        A3i_qgpv[k,j] = (-2. / (fo * cosPoint[j] ** 2.)) + (((sigma1 ** 2.) / fo) * ((-cosPlushalf[j] / cosPoint[j]) - (cosMinushalf[j] / cosPoint[j]))) + ((fo * sigma2 ** 2.) * ((-1. / stability[k-1]) - (1. / stability[k]))) \n"
   ]
  },
  {
   "cell_type": "code",
   "execution_count": 21,
   "metadata": {},
   "outputs": [],
   "source": [
    "#Reshape SAgeop for calculation\n",
    "SAgeop1 = np.zeros((tlen, klen, ilen, jlen))\n",
    "for t in range(tlen):\n",
    "    for k in range(klen):\n",
    "        SAgeop1[t,k,:,:] = SAgeop[k]"
   ]
  },
  {
   "cell_type": "markdown",
   "metadata": {},
   "source": [
    "## INVERT THE PERTURBATION UPPER-LEVEL QGPV TO GET THE ASSOCIATED GEOPOTENTIAL\n",
    "\n",
    "### iterative successive overrelaxation technique is used to attain solutions\n",
    "\n",
    "### alpha is a parameter to expedite inversion, while the tolerance is set as the change in the solution from the previous to current iteration, summed over all gridpoints. lower tolerance == lower precision but after a certain point you are not gaining any information by enhancing the tolerance"
   ]
  },
  {
   "cell_type": "code",
   "execution_count": 22,
   "metadata": {},
   "outputs": [],
   "source": [
    "d2r=np.pi/180.\n",
    "a = 6371.e3\n",
    "dlon = a*0.5*d2r\n",
    "dlat = a*0.5*d2r\n",
    "dp = 50.e2\n",
    "gamma=.0065\n",
    "omega = 7.292E-5\n",
    "f0 = 0.5*(2*omega*(np.sin(d2r*lat[0])+np.sin(d2r*lat[-1])))"
   ]
  },
  {
   "cell_type": "code",
   "execution_count": 23,
   "metadata": {},
   "outputs": [],
   "source": [
    "#Laplacian coefficient\n",
    "d2r=np.pi / 180.\n",
    "a = 6371.e3\n",
    "dlon = a * 0.5 * d2r\n",
    "dlat = a * 0.5 * d2r\n",
    "dp = 50.e2\n",
    "omega = 7.292E-5\n",
    "lat_rad=d2r * lat\n",
    "\n",
    "sigma = (dlon / dlat)\n",
    "sigma_squared = sigma * sigma\n",
    "\n",
    "A1 = np.zeros([lenlat])\n",
    "A2 = np.zeros([lenlat])\n",
    "A3 = np.zeros([klen,lenlat])\n",
    "A4 = np.zeros([lenlat])\n",
    "A5 = np.zeros([lenlat])\n",
    "A6 = np.zeros([klen])\n",
    "A7 = np.zeros([klen])     "
   ]
  },
  {
   "cell_type": "code",
   "execution_count": 24,
   "metadata": {},
   "outputs": [],
   "source": [
    "for k in np.arange(1,klen-1):\n",
    "    A6[k]=f0/(stability[k-1]*dp**2.)\n",
    "    A7[k]=f0/(stability[k]*dp**2.)\n",
    "for k in np.arange(0,klen-1):\n",
    "    for j in np.arange(1,jlen-1):\n",
    "        latPlushalf = (lat_rad[j] + lat_rad[j+1]) / 2.\n",
    "        latMinushalf = (lat_rad[j] + lat_rad[j-1]) / 2.\n",
    "        \n",
    "        A1[j]=np.cos(latMinushalf)/(np.cos(lat_rad[j])*(dlat)**2.)\n",
    "        A2[j]=1./( dlon * np.cos(lat_rad[j]) )**2.\n",
    "        A3[k,j]=-(A6[k]+A7[k])-(2./(dlon*np.cos(lat_rad[j]))**2. + (np.cos(latMinushalf)+np.cos(latPlushalf))/(np.cos(lat_rad[j])*(dlat)**2.))\n",
    "        A4[j]=A2[j]\n",
    "        A5[j]=np.cos(latPlushalf)/(np.cos(lat_rad[j])*(dlat)**2.) "
   ]
  },
  {
   "cell_type": "code",
   "execution_count": 25,
   "metadata": {},
   "outputs": [],
   "source": [
    "A1 = dlon * dlon * A1        \n",
    "A2 = dlon * dlon * A2        \n",
    "A3 = dlon * dlon * A3        \n",
    "A4 = dlon * dlon * A4        \n",
    "A5 = dlon * dlon * A5        \n",
    "A6 = dlon * dlon * A6        \n",
    "A7 = dlon * dlon * A7  "
   ]
  },
  {
   "cell_type": "code",
   "execution_count": 26,
   "metadata": {},
   "outputs": [],
   "source": [
    "#geopper = np.zeros((tlen, klen, ilen, jlen))\n",
    "\n",
    "#for t in range(tlen):\n",
    "    #for i in range(ilen):\n",
    "        #for j in range(jlen):\n",
    "              #geopper[t,0,i,j] = geopper[t,1,i,j] - ((R*delp)/(975.0*100.))*qgpvp[t,1,i,j]\n",
    "              #geopper[t,klen-1,i,j] = geopper[t,klen-1,i,j] - ((R*delp)/(975.0*100.))*qgpvp[t,klen-1,i,j]\n"
   ]
  },
  {
   "cell_type": "code",
   "execution_count": 27,
   "metadata": {},
   "outputs": [],
   "source": [
    "#set the sides of the domain to the observed geopotential anomaly for\n",
    "#the levels at which the QGPV anomaly is retained\n",
    "#for t in range(tlen):\n",
    "    #for k in range(klen):\n",
    "        #for i in range(ilen):\n",
    "            #geopper[t,k,i,0] = geop[t,k,i,0] - geopmean[k,i,0]\n",
    "            #geopper[t,k,i,jlen-1] = geop[t,k,i,jlen-1] - geopmean[k,i,jlen-1]\n",
    "        #for j in range(jlen): \n",
    "            #geopper[t,k,0,j] = geop[t,k,0,j] - geopmean[k,0,j]\n",
    "            #geopper[t,k,ilen-1,j] = geop[t,k,ilen-1,j] - geopmean[k,ilen-1,j]\n",
    "            \n",
    "            "
   ]
  },
  {
   "cell_type": "code",
   "execution_count": 28,
   "metadata": {},
   "outputs": [
    {
     "name": "stdin",
     "output_type": "stream",
     "text": [
      "Enter desired level for inversion (300, 500, 850, or 950):  300\n"
     ]
    }
   ],
   "source": [
    "levtitle = str(input('Enter desired level for inversion (300, 500, 850, or 950): '))\n",
    "if levtitle == \"300\":\n",
    "    krange = np.arange(12,15)\n",
    "elif levtitle == \"500\":\n",
    "    krange = np.arange(8,12)\n",
    "elif levtitle == \"850\":\n",
    "    krange = np.arange(1,5)\n",
    "elif levtitle == \"950\":\n",
    "    krange = np.arange(1,4)"
   ]
  },
  {
   "cell_type": "code",
   "execution_count": null,
   "metadata": {},
   "outputs": [],
   "source": [
    "%%time\n",
    "geopper = np.zeros((tlen, klen, ilen, jlen))\n",
    "res_list = []\n",
    "errvar = 10.e-2\n",
    "for t in np.arange(tlen):\n",
    "    print(\"Working on time: \", dattimes[t])\n",
    "    for iter in np.arange(150):\n",
    "        error = 0\n",
    "        for k in (krange):\n",
    "            for i in np.arange(1,ilen-2):\n",
    "                for j in np.arange(1,jlen-2):\n",
    "                    res = A1[j]*geopper[t,k,i,j-1] + A2[j]*geopper[t,k,i-1,j] + A3[k,j]*geopper[t,k,i,j] + A4[j]*geopper[t,k,i+1,j] + A5[j]*geopper[t,k,i,j+1] + A6[k]*geopper[t,k-1,i,j] + A7[k]*geopper[t,k+1,i,j] - qgpvp[t,k,i,j]*dlon*dlon\n",
    "                    geopper[t,k,i,j] = geopper[t,k,i,j] - 1.9*res/A3[k,j]\n",
    "                    error = error + abs(res)\n",
    "                    \n",
    "            if(k==1): \n",
    "                geopper[t,0,:,:] = geopper[t,1,:,:]\n",
    "            if(k==klen-2): \n",
    "                geopper[t,-1,:,:] = geopper[t,-2,:,:]\n",
    "                        \n",
    "            \n",
    "            unit_error = error/((klen-2)*(ilen-2)*(jlen-2))\n",
    "            res_list.append(unit_error)\n",
    "            \n",
    "        if(unit_error < errvar):      # error threshold, average absolute error must be less than specified\n",
    "            print('amount of error:')\n",
    "            print('got here: ',error/((ilen-2) * (jlen-2) * (klen-2)), iter)\n",
    "            break\n",
    "        #print(geopper[:,27,67])\n",
    "        #print(iter)\n",
    "# number of iterations until convergence\n",
    "print('hmm . . . number of iterations = ', iter)  "
   ]
  },
  {
   "cell_type": "code",
   "execution_count": null,
   "metadata": {},
   "outputs": [],
   "source": [
    "#Plot residual error\n",
    "plt.plot(res_list)\n",
    "plt.title(\"Residual\")\n",
    "plt.show()"
   ]
  },
  {
   "cell_type": "code",
   "execution_count": null,
   "metadata": {},
   "outputs": [],
   "source": [
    "#geopp is observed geopotential anomalies, geopper is calculated geopotential anomalies from inversion\n",
    "geopanom_obs = geopp\n",
    "hghtanom_obs = geopp / g\n",
    "\n",
    "#geopper is from the inversion\n",
    "#difference between obs and inversion\n",
    "geop_diff = geopanom_obs - geopper \n",
    "hght_diff = geop_diff / g \n",
    "\n",
    "#geop_anom_inv is from inversion\n",
    "hght_anom_inv = geopper / g"
   ]
  },
  {
   "cell_type": "code",
   "execution_count": null,
   "metadata": {},
   "outputs": [],
   "source": [
    "#Calculate geopotential and altitude height by adding back geopmean (phi '' to phi ') and adding back\n",
    "#the standard atmospheric geopotential height (phi ' to phi)\n",
    "fullgeopot_inv = (geopper + geopmean) + SAgeop1\n",
    "fullgeopot_obs = (geopanom_obs + geopmean) + SAgeop1\n",
    "\n",
    "#Divide by gravity to get altitudinal height (z)\n",
    "fullhght_obs = fullgeopot_obs / g\n",
    "fullhght_inv = fullgeopot_inv / g"
   ]
  },
  {
   "cell_type": "code",
   "execution_count": null,
   "metadata": {},
   "outputs": [],
   "source": [
    "#Calculate 3 hourly height tendencies\n",
    "hghttend_obs = np.zeros((tlen,klen,ilen,jlen))\n",
    "hghttend_inv = np.zeros((tlen,klen,ilen,jlen))\n",
    "\n",
    "for t in range(1, tlen-1):\n",
    "    hghttend_obs[t,:,:,:] = (hght[t+1,:,:,:] - hght[t,:,:,:])\n",
    "    hghttend_inv[t,:,:,:] = (fullhght_inv[t+1,:,:,:] - fullhght_inv[t,:,:,:])"
   ]
  },
  {
   "cell_type": "code",
   "execution_count": null,
   "metadata": {},
   "outputs": [],
   "source": [
    "hghttend_diff = hghttend_inv - hghttend_obs"
   ]
  },
  {
   "cell_type": "code",
   "execution_count": null,
   "metadata": {},
   "outputs": [],
   "source": [
    "#Save data to file for use in other notebooks\n",
    "import pickle\n",
    "with open('inv_qgpv_tot_trop_'+levtitle+'_'+filetype+'.pkl', 'wb') as f:\n",
    "    pickle.dump([geopper, geopp, hght_anom_inv, hght_diff, hghtanom_obs, fullhght_obs, fullhght_inv, hghttend_obs,hghttend_inv,hghttend_diff], f)"
   ]
  },
  {
   "cell_type": "code",
   "execution_count": null,
   "metadata": {},
   "outputs": [],
   "source": [
    "#Load data from saved file\n",
    "#import pickle\n",
    "#with open('inv_qgpv_tot_trop_'+levtitle+'_'+filetype+'.pkl', 'rb') as f:\n",
    "    #geopper, geopp, hght_anom_inv, hght_diff, hghtanom_obs, fullhght_obs, fullhght_inv, hghttend_obs,hghttend_inv,hghttend_diff = pickle.load(f)"
   ]
  },
  {
   "cell_type": "code",
   "execution_count": null,
   "metadata": {},
   "outputs": [],
   "source": [
    "lats, lons = latlon_coords(z)\n",
    "dx, dy = mpcalc.lat_lon_grid_deltas(lons, lats)"
   ]
  },
  {
   "cell_type": "code",
   "execution_count": null,
   "metadata": {},
   "outputs": [],
   "source": [
    "lats = np.asarray(lats)\n",
    "lons = np.asarray(lons)"
   ]
  },
  {
   "cell_type": "code",
   "execution_count": null,
   "metadata": {},
   "outputs": [],
   "source": [
    "dx = np.asarray(dx)\n",
    "dy = np.asarray(dy)"
   ]
  },
  {
   "cell_type": "code",
   "execution_count": null,
   "metadata": {},
   "outputs": [],
   "source": [
    "lats_redo = lats\n",
    "lons_redo = lons"
   ]
  },
  {
   "cell_type": "code",
   "execution_count": null,
   "metadata": {},
   "outputs": [],
   "source": [
    "#Account for cartopy plotting issue when longitude is less than 0.0\n",
    "for i in range(ilen):\n",
    "    for j in range(jlen):\n",
    "        if lons_redo[i,j] < 0.0:\n",
    "            lons_redo[i,j] = lons_redo[i,j] + 360.\n",
    "        else:\n",
    "            lons_redo[i,j] = lons_redo[i,j]"
   ]
  },
  {
   "cell_type": "code",
   "execution_count": null,
   "metadata": {},
   "outputs": [],
   "source": [
    "%%time\n",
    "#OBSERVED geostrophic wind based on geopotential heights\n",
    "ug_obs = np.zeros((tlen,klen,ilen,jlen))\n",
    "vg_obs = np.zeros((tlen,klen,ilen,jlen))\n",
    "fullgeopot_obs = fullhght_obs * g\n",
    "for t in np.arange(tlen):\n",
    "    print(\"Working on time: \", dattimes[t])\n",
    "    for k in np.arange(klen):\n",
    "        for i in np.arange(1, ilen-1):\n",
    "            for j in np.arange(1, jlen-1):\n",
    "                ug_obs[t,k,i,j] = -(1. / fo) * ((fullgeopot_obs[t,k,i,j+1] - fullgeopot_obs[t,k,i,j-1]) / (2. * dy[i,j]))\n",
    "                vg_obs[t,k,i,j] = (1. / fo) * ((fullgeopot_obs[t,k,i+1,j] - fullgeopot_obs[t,k,i-1,j]) / (2. * dx[i,j]))"
   ]
  },
  {
   "cell_type": "code",
   "execution_count": null,
   "metadata": {},
   "outputs": [],
   "source": [
    "%%time\n",
    "#INVERTED geostrophic wind based on geopotential heights\n",
    "ug_inv = np.zeros((tlen,klen,ilen,jlen))\n",
    "vg_inv = np.zeros((tlen,klen,ilen,jlen))\n",
    "fullgeopot_inv = fullhght_inv * g\n",
    "for t in np.arange(tlen):\n",
    "    print(\"Working on time: \", dattimes[t])\n",
    "    for k in np.arange(klen):\n",
    "        for i in np.arange(1, ilen-2):\n",
    "            for j in np.arange(1, jlen-2):\n",
    "                ug_inv[t,k,i,j] = -(1. / fo) * ((fullgeopot_inv[t,k,i,j+1] - fullgeopot_inv[t,k,i,j-1]) / (2. * dy[i,j]))\n",
    "                vg_inv[t,k,i,j] = (1. / fo) * ((fullgeopot_inv[t,k,i+1,j] - fullgeopot_inv[t,k,i-1,j]) / (2. * dx[i,j]))"
   ]
  },
  {
   "cell_type": "code",
   "execution_count": null,
   "metadata": {},
   "outputs": [],
   "source": [
    "if levtitle == \"300\":\n",
    "    lev = 14\n",
    "elif levtitle == \"500\":\n",
    "    lev = 10\n",
    "elif levtitle == \"850\":\n",
    "    lev = 3\n",
    "elif levtitle == \"900\":\n",
    "    lev = 2\n",
    "elif levtitle == \"950\":\n",
    "    lev = 1\n",
    "elif levtitle == \"1000\":\n",
    "    lev = 0"
   ]
  },
  {
   "cell_type": "code",
   "execution_count": null,
   "metadata": {},
   "outputs": [],
   "source": [
    "from scipy.ndimage.filters import gaussian_filter"
   ]
  },
  {
   "cell_type": "code",
   "execution_count": null,
   "metadata": {},
   "outputs": [],
   "source": [
    "#PLOTTING FOR GEOPOTENTIAL ANOMALY\n",
    "for i in range (tlen):\n",
    "    print(\"Working on time: \", dattimes[i])\n",
    "    \n",
    "    # Get the map projection information\n",
    "    cart_proj = get_cartopy(wrfin=ncfile)\n",
    "    \n",
    "    # Create the figure\n",
    "    fig = plt.figure(figsize=(12,9))\n",
    "    ax = plt.axes(projection=cart_proj)\n",
    "    # Download and add the states and coastlines\n",
    "    states = NaturalEarthFeature(category=\"cultural\", scale=\"50m\",\n",
    "                             facecolor=\"none\",\n",
    "                             name=\"admin_1_states_provinces_shp\")\n",
    "    ax.add_feature(states, linewidth=0.5, edgecolor=\"black\")\n",
    "    ax.coastlines('50m', linewidth=0.8)\n",
    "\n",
    "    tmp1 = hght_anom_inv[i,lev,:,:]\n",
    "    \n",
    "    #FOR EASY, COLORFUL VISUALIZATION\n",
    "    #qgcs = plt.pcolormesh(to_np(lons_redo), to_np(lats_redo), to_np(tmp1),\n",
    "                                #cmap='bwr', vmin=-100, vmax=100,\n",
    "                                #transform=crs.PlateCarree())\n",
    "    #plt.colorbar(qgcs, ax=ax, orientation=\"horizontal\", pad=.05)\n",
    "    \n",
    "    #FOR PROPER, PAPER-READY PLOTS\n",
    "    levels = [-100,-80,-60,-40,-20,20,40,60,80,100]\n",
    "    qgcts = plt.contour(to_np(lons_redo), to_np(lats_redo), to_np(tmp1), levels=levels, transform=crs.PlateCarree(), colors=\"black\")\n",
    "    plt.clabel(qgcts, fmt='%.1f', inline=True) \n",
    "\n",
    "    # Set the map bounds\n",
    "    ax.set_xlim(cartopy_xlim(z))\n",
    "    ax.set_ylim(cartopy_ylim(z))\n",
    "\n",
    "    ax.gridlines(color=\"black\", linestyle=\"dotted\")\n",
    "\n",
    "\n",
    "    ax.set_title('WRF '+levtitle+'-hPa Inverted Height Anomaly (m) \\n Valid Time: {}'.format(dattimes[i]))\n",
    "    #($\\frac{m}{s^{-2}}$)\n",
    "\n",
    "    plt.savefig('plots/inv_tot_trop/'+filetype+'/full_qgpv/invheightanom/invheightanom_'+levtitle+'_'+filetype+'_{}.pdf'.format(dattimes[i]))\n",
    "    plt.close()"
   ]
  },
  {
   "cell_type": "code",
   "execution_count": null,
   "metadata": {},
   "outputs": [],
   "source": [
    "#PLOTTING FOR HEIGHT DIFFERENCE\n",
    "for i in range (tlen):\n",
    "    print(\"Working on time: \", dattimes[i])\n",
    "    \n",
    "    # Get the map projection information\n",
    "    cart_proj = get_cartopy(wrfin=ncfile)\n",
    "    \n",
    "    # Create the figure\n",
    "    fig = plt.figure(figsize=(12,9))\n",
    "    ax = plt.axes(projection=cart_proj)\n",
    "    # Download and add the states and coastlines\n",
    "    states = NaturalEarthFeature(category=\"cultural\", scale=\"50m\",\n",
    "                             facecolor=\"none\",\n",
    "                             name=\"admin_1_states_provinces_shp\")\n",
    "    ax.add_feature(states, linewidth=0.5, edgecolor=\"black\")\n",
    "    ax.coastlines('50m', linewidth=0.8)\n",
    "\n",
    "    tmp1 = hght_diff[i,lev,:,:]\n",
    "\n",
    "    #FOR EASY, COLORFUL VISUALIZATION\n",
    "    #qgcs = plt.pcolormesh(to_np(lons_redo), to_np(lats_redo), to_np(tmp1),\n",
    "                                #cmap='bwr', vmin=-100, vmax=100,\n",
    "                                #transform=crs.PlateCarree())\n",
    "    #plt.colorbar(qgcs, ax=ax, orientation=\"horizontal\", pad=.05)\n",
    "    \n",
    "    #FOR PROPER, PAPER-READY PLOTS\n",
    "    levels = [-100,-80,-60,-40,-20,20,40,60,80,100]\n",
    "    qgcts = plt.contour(to_np(lons_redo), to_np(lats_redo), to_np(tmp1), transform=crs.PlateCarree(), colors=\"black\")\n",
    "    plt.clabel(qgcts, fmt='%.1f', inline=True) \n",
    "\n",
    "    # Set the map bounds\n",
    "    ax.set_xlim(cartopy_xlim(z))\n",
    "    ax.set_ylim(cartopy_ylim(z))\n",
    "\n",
    "    ax.gridlines(color=\"black\", linestyle=\"dotted\")\n",
    "\n",
    "\n",
    "    ax.set_title('WRF '+levtitle+'-hPa Height Difference (m), Observation -  Inversion \\n Valid Time: {}'.format(dattimes[i]))\n",
    "    \n",
    "    plt.savefig('plots/inv_tot_trop/'+filetype+'/full_qgpv/heightdiff/heightdiff_'+levtitle+'_'+filetype+'_{}.pdf'.format(dattimes[i]))\n",
    "    plt.close()"
   ]
  },
  {
   "cell_type": "code",
   "execution_count": null,
   "metadata": {},
   "outputs": [],
   "source": [
    "#PLOTTING FOR OBS HEIGHT ANOMALY\n",
    "for i in range (0,count):\n",
    "    print(\"Working on time: \", dattimes[i])\n",
    "    \n",
    "    # Get the map projection information\n",
    "    cart_proj = get_cartopy(wrfin=ncfile)\n",
    "    \n",
    "    # Create the figure\n",
    "    fig = plt.figure(figsize=(12,9))\n",
    "    ax = plt.axes(projection=cart_proj)\n",
    "    # Download and add the states and coastlines\n",
    "    states = NaturalEarthFeature(category=\"cultural\", scale=\"50m\",\n",
    "                             facecolor=\"none\",\n",
    "                             name=\"admin_1_states_provinces_shp\")\n",
    "    ax.add_feature(states, linewidth=0.5, edgecolor=\"black\")\n",
    "    ax.coastlines('50m', linewidth=0.8)\n",
    "\n",
    "    tmp1 = np.squeeze(hghtanom_obs[i,lev,:,:])\n",
    "\n",
    "    #FOR EASY, COLORFUL VISUALIZATION\n",
    "    #qgcs = plt.pcolormesh(to_np(lons_redo), to_np(lats_redo), to_np(tmp1),\n",
    "                                #cmap='bwr', vmin=-250., vmax=250.,\n",
    "                                #transform=crs.PlateCarree())\n",
    "    #plt.colorbar(qgcs, ax=ax, orientation=\"horizontal\", pad=.05)\n",
    "    \n",
    "    #FOR PROPER, PAPER-READY PLOTS\n",
    "    levels = [-260,-240,-220,-200,-180,-160,-140,-120,-100,-80,-60,-40,-20,20,40,60,80,100,120,140,160,180,200,220,240,260]\n",
    "    qgcts = plt.contour(to_np(lons_redo), to_np(lats_redo), to_np(tmp1), transform=crs.PlateCarree(), colors=\"black\")\n",
    "    plt.clabel(qgcts, fmt='%.1f', inline=True) \n",
    "\n",
    "    # Set the map bounds\n",
    "    ax.set_xlim(cartopy_xlim(z))\n",
    "    ax.set_ylim(cartopy_ylim(z))\n",
    "\n",
    "    ax.gridlines(color=\"black\", linestyle=\"dotted\")\n",
    "\n",
    "    ax.set_title('WRF '+levtitle+'-hPa Observed Height Anomaly (m) \\n Valid Time: {}'.format(dattimes[i]))\n",
    "    \n",
    "    plt.savefig('plots/inv_tot_trop/'+filetype+'/full_qgpv/obsheightanom/obsheightanom_'+levtitle+'_'+filetype+'_{}.pdf'.format(dattimes[i]))\n",
    "    plt.close()"
   ]
  },
  {
   "cell_type": "code",
   "execution_count": null,
   "metadata": {},
   "outputs": [],
   "source": [
    "#PLOTTING FOR INV HEIGHT\n",
    "for i in range (0,count):\n",
    "    print(\"Working on time: \", dattimes[i])\n",
    "    \n",
    "    # Get the map projection information\n",
    "    cart_proj = get_cartopy(wrfin=ncfile)\n",
    "    \n",
    "    # Create the figure\n",
    "    fig = plt.figure(figsize=(12,9))\n",
    "    ax = plt.axes(projection=cart_proj)\n",
    "    # Download and add the states and coastlines\n",
    "    states = NaturalEarthFeature(category=\"cultural\", scale=\"50m\",\n",
    "                             facecolor=\"none\",\n",
    "                             name=\"admin_1_states_provinces_shp\")\n",
    "    ax.add_feature(states, linewidth=0.5, edgecolor=\"black\")\n",
    "    ax.coastlines('50m', linewidth=0.8)\n",
    "\n",
    "    tmp1 = np.squeeze(fullhght_inv[i,lev,:,:])\n",
    "\n",
    "    #FOR EASY, COLORFUL VISUALIZATION\n",
    "    #qgcs = plt.pcolormesh(to_np(lons_redo), to_np(lats_redo), to_np(tmp1),\n",
    "                                #cmap='coolwarm', vmin=8600., vmax=9600.,\n",
    "                                #transform=crs.PlateCarree())\n",
    "    #plt.colorbar(qgcs, ax=ax, orientation=\"horizontal\", pad=.05)\n",
    "    \n",
    "    #FOR PROPER, PAPER-READY PLOTS\n",
    "    if lev == 1:\n",
    "        levels = np.arange(0,760,20)\n",
    "    if lev == 14:\n",
    "        levels = np.arange(8000,11000,100)\n",
    "    qgcts = plt.contour(to_np(lons_redo), to_np(lats_redo), gaussian_filter(to_np(tmp1),3), levels=levels, transform=crs.PlateCarree(), colors='black')\n",
    "    plt.clabel(qgcts, fmt='%.1f', inline=True) \n",
    "    \n",
    "    tmp2 = np.squeeze(ug_inv[i,lev,:,:])\n",
    "    tmp3 = np.squeeze(vg_inv[i,lev,:,:])\n",
    "    \n",
    "    Q = plt.barbs(to_np(lons[::15,::15]),to_np(lats[::15,::15]), tmp2[::15,::15], tmp3[::15,::15], \n",
    "                transform=crs.PlateCarree(), length = 5)\n",
    "\n",
    "    # Set the map bounds\n",
    "    ax.set_xlim(cartopy_xlim(z))\n",
    "    ax.set_ylim(cartopy_ylim(z))\n",
    "\n",
    "    ax.gridlines(color=\"black\", linestyle=\"dotted\")\n",
    "\n",
    "    ax.set_title('WRF '+levtitle+'-hPa Inverted Height (m) and Geostrophic Winds (kts) \\n Valid Time: {}'.format(dattimes[i]))\n",
    "    \n",
    "    plt.savefig('plots/inv_tot_trop/'+filetype+'/full_qgpv/invheight/invheight_'+levtitle+'_'+filetype+'_{}.pdf'.format(dattimes[i]))\n",
    "    plt.close()"
   ]
  },
  {
   "cell_type": "code",
   "execution_count": null,
   "metadata": {},
   "outputs": [],
   "source": [
    "#PLOTTING FOR OBS HEIGHT\n",
    "for i in range (0,count):\n",
    "    print(\"Working on time: \", dattimes[i])\n",
    "    \n",
    "    # Get the map projection information\n",
    "    cart_proj = get_cartopy(wrfin=ncfile)\n",
    "    \n",
    "    # Create the figure\n",
    "    fig = plt.figure(figsize=(12,9))\n",
    "    ax = plt.axes(projection=cart_proj)\n",
    "    # Download and add the states and coastlines\n",
    "    states = NaturalEarthFeature(category=\"cultural\", scale=\"50m\",\n",
    "                             facecolor=\"none\",\n",
    "                             name=\"admin_1_states_provinces_shp\")\n",
    "    ax.add_feature(states, linewidth=0.5, edgecolor=\"black\")\n",
    "    ax.coastlines('50m', linewidth=0.8)\n",
    "\n",
    "    tmp1 = np.squeeze(hght[i,lev,:,:])\n",
    "\n",
    "    #FOR EASY, COLORFUL VISUALIZATION\n",
    "    #qgcs = plt.pcolormesh(to_np(lons_redo), to_np(lats_redo), to_np(tmp1),\n",
    "                                #cmap='coolwarm', vmin=8600, vmax=9600.,\n",
    "                                #transform=crs.PlateCarree())\n",
    "    #plt.colorbar(qgcs, ax=ax, orientation=\"horizontal\", pad=.05)\n",
    "    \n",
    "    #FOR PROPER, PAPER-READY PLOTS\n",
    "    if lev == 1:\n",
    "        levels = np.arange(0,800,20)\n",
    "    if lev == 14:\n",
    "        levels = np.arange(8000,11000,100)\n",
    "    qgcts = plt.contour(to_np(lons_redo), to_np(lats_redo), gaussian_filter(to_np(tmp1),3), levels=levels, transform=crs.PlateCarree(), colors='black')\n",
    "    plt.clabel(qgcts, fmt='%.1f', inline=True) \n",
    "    \n",
    "    # Add the wind barbs, only plotting every 15th data point.\n",
    "    plt.barbs(to_np(lons[::15,::15]), to_np(lats[::15,::15]),\n",
    "          to_np(ug_obs[i,lev, ::15, ::15]), to_np(vg_obs[i,lev, ::15, ::15]),\n",
    "          transform=crs.PlateCarree(), length=5)\n",
    "    \n",
    "    # Set the map bounds\n",
    "    ax.set_xlim(cartopy_xlim(z))\n",
    "    ax.set_ylim(cartopy_ylim(z))\n",
    "\n",
    "    ax.gridlines(color=\"black\", linestyle=\"dotted\")\n",
    "\n",
    "    ax.set_title('WRF '+levtitle+'-hPa Observed Height (m) and Geostrophic Winds (kts) \\n Valid Time: {}'.format(dattimes[i]))\n",
    "    \n",
    "    plt.savefig('plots/inv_tot_trop/'+filetype+'/full_qgpv/obsheight/obsheight_'+levtitle+'_'+filetype+'_{}.pdf'.format(dattimes[i]))\n",
    "    plt.close()"
   ]
  },
  {
   "cell_type": "code",
   "execution_count": null,
   "metadata": {},
   "outputs": [],
   "source": [
    "#PLOTTING FOR INV HEIGHT TENDENCY\n",
    "for i in range (1,count-1):\n",
    "    print(\"Working on time: \", dattimes[i])\n",
    "    \n",
    "    # Get the map projection information\n",
    "    cart_proj = get_cartopy(wrfin=ncfile)\n",
    "    \n",
    "    # Create the figure\n",
    "    fig = plt.figure(figsize=(12,9))\n",
    "    ax = plt.axes(projection=cart_proj)\n",
    "    # Download and add the states and coastlines\n",
    "    states = NaturalEarthFeature(category=\"cultural\", scale=\"50m\",\n",
    "                             facecolor=\"none\",\n",
    "                             name=\"admin_1_states_provinces_shp\")\n",
    "    ax.add_feature(states, linewidth=0.5, edgecolor=\"black\")\n",
    "    ax.coastlines('50m', linewidth=0.8)\n",
    "\n",
    "    tmp1 = np.squeeze(hghttend_inv[i,lev,:,:])\n",
    "\n",
    "    #FOR EASY, COLORFUL VISUALIZATION\n",
    "    #qgcs = plt.pcolormesh(to_np(lons_redo), to_np(lats_redo), to_np(tmp1),\n",
    "                                #cmap='bwr', vmin=-150., vmax=150.,\n",
    "                                #transform=crs.PlateCarree())\n",
    "    #plt.colorbar(qgcs, ax=ax, orientation=\"horizontal\", pad=.05)\n",
    "    \n",
    "    levels = [-100,-80,-60,-40,-20,20,40,60,80,100]\n",
    "    #FOR PROPER, PAPER-READY PLOTS\n",
    "    qgcts = plt.contour(to_np(lons_redo), to_np(lats_redo), gaussian_filter(to_np(tmp1),3), levels=levels, transform=crs.PlateCarree(), colors=\"black\")\n",
    "    plt.clabel(qgcts, fmt='%.1f', inline=True) \n",
    "\n",
    "    # Set the map bounds\n",
    "    ax.set_xlim(cartopy_xlim(z))\n",
    "    ax.set_ylim(cartopy_ylim(z))\n",
    "\n",
    "    ax.gridlines(color=\"black\", linestyle=\"dotted\")\n",
    "\n",
    "    ax.set_title('WRF '+levtitle+'-hPa Inverted Height Tendency (m / 3 hr) \\n Valid Time: {}'.format(dattimes[i]+' to '+dattimes[i+1]))\n",
    "    \n",
    "    plt.savefig('plots/inv_tot_trop/'+filetype+'/full_qgpv/invheighttend/invheighttend_'+levtitle+'_'+filetype+'_{}.pdf'.format(dattimes[i]))\n",
    "    plt.close()"
   ]
  },
  {
   "cell_type": "code",
   "execution_count": null,
   "metadata": {},
   "outputs": [],
   "source": [
    "#PLOTTING FOR OBS HEIGHT TENDENCY\n",
    "for i in range (1,count-1):\n",
    "    print(\"Working on time: \", dattimes[i])\n",
    "    \n",
    "    # Get the map projection information\n",
    "    cart_proj = get_cartopy(wrfin=ncfile)\n",
    "    \n",
    "    # Create the figure\n",
    "    fig = plt.figure(figsize=(12,9))\n",
    "    ax = plt.axes(projection=cart_proj)\n",
    "    # Download and add the states and coastlines\n",
    "    states = NaturalEarthFeature(category=\"cultural\", scale=\"50m\",\n",
    "                             facecolor=\"none\",\n",
    "                             name=\"admin_1_states_provinces_shp\")\n",
    "    ax.add_feature(states, linewidth=0.5, edgecolor=\"black\")\n",
    "    ax.coastlines('50m', linewidth=0.8)\n",
    "\n",
    "    tmp1 = np.squeeze(hghttend_obs[i,lev,:,:])\n",
    "\n",
    "    #FOR EASY, COLORFUL VISUALIZATION\n",
    "    #qgcs = plt.pcolormesh(to_np(lons_redo), to_np(lats_redo), to_np(tmp1),\n",
    "                                #cmap='bwr', vmin=-150., vmax=150.,\n",
    "                                #transform=crs.PlateCarree())\n",
    "    #plt.colorbar(qgcs, ax=ax, orientation=\"horizontal\", pad=.05)\n",
    "    \n",
    "    #FOR PROPER, PAPER-READY PLOTS\n",
    "    if lev == 1:\n",
    "        levels = [-10,-8,-6,-4,-2,2,4,6,8,10]\n",
    "    if lev == 14:\n",
    "        levels = [-100,-80,-60,-40,-20,20,40,60,80,100]\n",
    "    qgcts = plt.contour(to_np(lons_redo), to_np(lats_redo), gaussian_filter(to_np(tmp1),3), levels=levels, transform=crs.PlateCarree(), colors=\"black\")\n",
    "    plt.clabel(qgcts, fmt='%.1f', inline=True)\n",
    "\n",
    "    # Set the map bounds\n",
    "    ax.set_xlim(cartopy_xlim(z))\n",
    "    ax.set_ylim(cartopy_ylim(z))\n",
    "\n",
    "    ax.gridlines(color=\"black\", linestyle=\"dotted\")\n",
    "\n",
    "    ax.set_title('WRF '+levtitle+'-hPa Observed Height Tendency (m / 3 hr) \\n Valid Time: {}'.format(dattimes[i]+' to '+dattimes[i+1]))\n",
    "    \n",
    "    plt.savefig('plots/inv_tot_trop/'+filetype+'/full_qgpv/obsheighttend/obsheighttend_'+levtitle+'_'+filetype+'_{}.pdf'.format(dattimes[i]))\n",
    "    plt.close()"
   ]
  },
  {
   "cell_type": "code",
   "execution_count": null,
   "metadata": {},
   "outputs": [],
   "source": [
    "#PLOTTING FOR HEIGHT TENDENCY DIFFERENCE (INVERSION - OBSERVATION)\n",
    "for i in range (1,count-1):\n",
    "    print(\"Working on time: \", dattimes[i])\n",
    "    \n",
    "    # Get the map projection information\n",
    "    cart_proj = get_cartopy(wrfin=ncfile)\n",
    "    \n",
    "    # Create the figure\n",
    "    fig = plt.figure(figsize=(12,9))\n",
    "    ax = plt.axes(projection=cart_proj)\n",
    "    # Download and add the states and coastlines\n",
    "    states = NaturalEarthFeature(category=\"cultural\", scale=\"50m\",\n",
    "                             facecolor=\"none\",\n",
    "                             name=\"admin_1_states_provinces_shp\")\n",
    "    ax.add_feature(states, linewidth=0.5, edgecolor=\"black\")\n",
    "    ax.coastlines('50m', linewidth=0.8)\n",
    "\n",
    "    tmp1 = np.squeeze(hghttend_diff[i,lev,:,:])\n",
    "\n",
    "    #FOR EASY, COLORFUL VISUALIZATION\n",
    "    #qgcs = plt.pcolormesh(to_np(lons_redo), to_np(lats_redo), to_np(tmp1),\n",
    "                                #cmap='bwr', vmin=-150., vmax=150.,\n",
    "                                #transform=crs.PlateCarree())\n",
    "    #plt.colorbar(qgcs, ax=ax, orientation=\"horizontal\", pad=.05)\n",
    "    \n",
    "    #FOR PROPER, PAPER-READY PLOTS\n",
    "    levels = [-100,-80,-60,-40,-20,20,40,60,80,100]\n",
    "    qgcts = plt.contour(to_np(lons_redo), to_np(lats_redo), gaussian_filter(to_np(tmp1),3), levels=levels, transform=crs.PlateCarree(), colors=\"black\")\n",
    "    plt.clabel(qgcts, fmt='%.1f', inline=True)\n",
    "\n",
    "    # Set the map bounds\n",
    "    ax.set_xlim(cartopy_xlim(z))\n",
    "    ax.set_ylim(cartopy_ylim(z))\n",
    "\n",
    "    ax.gridlines(color=\"black\", linestyle=\"dotted\")\n",
    "\n",
    "    ax.set_title('WRF '+levtitle+'-hPa Height Tendency Difference (m / 3 hr) \\n Inversion - Observation \\n Valid Time: {}'.format(dattimes[i]+' to '+dattimes[i+1]))\n",
    "    \n",
    "    plt.savefig('plots/inv_tot_trop/'+filetype+'/full_qgpv/heighttenddiff/heighttenddiff_'+levtitle+'_'+filetype+'_{}.pdf'.format(dattimes[i]))\n",
    "    plt.close()"
   ]
  },
  {
   "cell_type": "code",
   "execution_count": null,
   "metadata": {},
   "outputs": [],
   "source": []
  },
  {
   "cell_type": "code",
   "execution_count": null,
   "metadata": {},
   "outputs": [],
   "source": [
    "#Melissa's inversion calculation\n",
    "\n",
    "#import time\n",
    "#start = time.time()\n",
    "\n",
    "#for t in range(tlen):\n",
    "    #print(\"Working on time: \", dattimes[t])\n",
    "    #for m in range(10): #Fast inversion: m = 10, Slow inversion: m = 5000\n",
    "        #check = 0\n",
    "        #for k in range(1, klen-1):\n",
    "            #print(\"I am here: \", k)\n",
    "            #for i in range(1, ilen-1):\n",
    "                #for j in range(1, jlen-1):\n",
    "                    #A3i_qgpv[A3i_qgpv==0] = np.nan\n",
    "                    #geoppertemp = ((qgpvp[t,k,i,j])*A8_qgpv-A1_qgpv[j]*geopper[t,k,i-1,j]-A2i_qgpv[j]*geopper[t,k,i,j-1]-A4i_qgpv[j]*geopper[t,k,i,j+1]-A5_qgpv[j]*geopper[t,k,i+1,j]-A6_qgpv[k]*geopper[t,k-1,i,j]-A7_qgpv[k]*geopper[t,k+1,i,j])/A3i_qgpv[k,j]\n",
    "                    #res = geopper[t,k,:,:] - geoppertemp\n",
    "                    #geopper[t,k,:,:] = geopper[t,k,:,:] - (alpha * res)\n",
    "                    #error = error + abs(res)\n",
    "                    #print(error)\n",
    "                    \n",
    "                    # incorporate upper/lower level boundary theta into solution \n",
    "                    #if (k == 1):\n",
    "                        #geopper[t,0,:,:] = geopper[t,1,:,:] - ((Rconst*delp)/(phalf[0]*100.))*qgpvp[t,0,:,:]                  \n",
    "                    #elif (k == 30):\n",
    "                        #geopper[t,31,:,:] = geopper[t,30,:,:] + ((Rconst*delp)/(phalf[-1]*100.))*qgpvp[t,31,:,:]\n",
    "    #if (check < tol):\n",
    "        #print(\"Woohoo! Convergence!\")\n",
    "        #break\n",
    "        \n",
    "    #elif (m < 5000):\n",
    "        #print(\"m= \", m)\n",
    "        #print(\"check= \", check)\n",
    "        \n",
    "    #elif (m == 5000):\n",
    "        #print(\"No convergence reached...try again\")\n",
    "        #break\n",
    "        \n",
    "    #print(\"I am here: \", m)\n",
    "\n",
    "#print (\"Clock time to run= \",time.time()- start,\" seconds\")                 \n",
    "                    "
   ]
  }
 ],
 "metadata": {
  "kernelspec": {
   "display_name": "Python 3",
   "language": "python",
   "name": "python3"
  },
  "language_info": {
   "codemirror_mode": {
    "name": "ipython",
    "version": 3
   },
   "file_extension": ".py",
   "mimetype": "text/x-python",
   "name": "python",
   "nbconvert_exporter": "python",
   "pygments_lexer": "ipython3",
   "version": "3.7.3"
  }
 },
 "nbformat": 4,
 "nbformat_minor": 4
}
