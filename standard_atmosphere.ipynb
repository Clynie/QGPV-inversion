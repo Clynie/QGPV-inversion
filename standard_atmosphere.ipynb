{
 "cells": [
  {
   "cell_type": "code",
   "execution_count": 1,
   "metadata": {},
   "outputs": [],
   "source": [
    "import numpy as np"
   ]
  },
  {
   "cell_type": "code",
   "execution_count": 2,
   "metadata": {},
   "outputs": [],
   "source": [
    "pb = 1000.\n",
    "pb_half = 975.\n",
    "pt = 100.\n",
    "pt_half = 125."
   ]
  },
  {
   "cell_type": "code",
   "execution_count": 3,
   "metadata": {},
   "outputs": [],
   "source": [
    "g=9.8066\n",
    "kappa=0.2856219\n",
    "R=287.05\n",
    "p0=1.e5\n",
    "alpha=-1./5.255877\n",
    "cp = 1004.7"
   ]
  },
  {
   "cell_type": "code",
   "execution_count": 4,
   "metadata": {},
   "outputs": [],
   "source": [
    "p = np.linspace(pb,pt,19)\n",
    "p_half = np.linspace(pb_half,pt_half,18)"
   ]
  },
  {
   "cell_type": "markdown",
   "metadata": {},
   "source": [
    "Code below defines standard atmosphere geopotential, temperature, and stratification (on half-levels)"
   ]
  },
  {
   "cell_type": "code",
   "execution_count": 5,
   "metadata": {},
   "outputs": [],
   "source": [
    "def standard_atmosphere(p, p_half):\n",
    "    g=9.8066\n",
    "    kappa=0.2856219\n",
    "    alpha=-1./5.255877\n",
    "    beta=-6341.624\n",
    "    gamma=.0065\n",
    "    R=287.04\n",
    "    cp = 1004.7\n",
    "    p00=1000.\n",
    "    nlevels = p.size\n",
    "    nlevels_half = p_half.size\n",
    "\n",
    "    Z = np.zeros(nlevels)\n",
    "    phi = np.zeros(nlevels)\n",
    "    T = np.zeros(nlevels)\n",
    "    theta = np.zeros(nlevels)\n",
    "\n",
    "    T_half = np.zeros(nlevels)\n",
    "    theta_half = np.zeros(nlevels_half)\n",
    "    dthetadp = np.zeros(nlevels_half)\n",
    "    S = np.zeros(nlevels_half)\n",
    "\n",
    "    for k in np.arange(nlevels):\n",
    "        if (p[k] > 226.32):\n",
    "            Z[k] = (288.15/gamma) * ( 1. - (1013.25/p[k])**alpha)\n",
    "            T[k] = 288.15 - 0.0065*Z[k]\n",
    "            theta[k] = T[k] * (1000./p[k])**(R/cp)\n",
    "        else:\n",
    "            T[k] = 216.65\n",
    "            Z[k] = (11.e3+beta*np.log(p[k]/226.32))\n",
    "            theta[k] = T[k] * (1000./p[k])**(R/cp)\n",
    "                \n",
    "    for k in np.arange(nlevels_half):\n",
    "        if (p_half[k] > 226.32):\n",
    "            T_half[k] = 288.15 - 0.0065*Z[k]\n",
    "            theta_half[k] = T_half[k] * (1000./p_half[k])**(R/cp)\n",
    "        else:\n",
    "            T_half[k] = 216.65\n",
    "            theta_half[k] = T_half[k] * (1000./p_half[k])**(R/cp)\n",
    "    \n",
    "    for k in np.arange(nlevels_half):\n",
    "        dthetadp[k] = (theta[k+1] - theta[k-1])/(1.e2*(p[k+1]-p[k-1]))\n",
    "        S[k] =  -R*(T_half[k]/theta_half[k])*dthetadp[k]/(p[k]*100.)\n",
    "    return g*Z, T, S"
   ]
  },
  {
   "cell_type": "code",
   "execution_count": 6,
   "metadata": {},
   "outputs": [],
   "source": [
    "sa_phi, sa_temp, sa_strat = standard_atmosphere(p, p_half)"
   ]
  },
  {
   "cell_type": "code",
   "execution_count": 7,
   "metadata": {},
   "outputs": [
    {
     "name": "stdout",
     "output_type": "stream",
     "text": [
      "[  110.88448759   540.33738844   988.50060196  1457.30021843\n",
      "  1948.98885074  2466.22554117  3012.18206272  3590.68692913\n",
      "  4206.42456847  4865.2174136   5574.43659583  6343.61956073\n",
      "  7185.43546048  8117.26669473  9163.95553321 10362.94394054\n",
      " 11784.0312125  13608.40274753 16179.71000827] [287.42925083 284.63780698 281.72474609 278.67754858 275.48157247\n",
      " 272.11953398 268.57081659 264.81053496 260.8082403  256.52608681\n",
      " 251.91616213 246.91647286 241.44466951 235.38776648 228.58428903\n",
      " 220.79086439 216.65       216.65       216.65      ]\n"
     ]
    }
   ],
   "source": [
    "print(sa_phi, sa_temp)"
   ]
  },
  {
   "cell_type": "code",
   "execution_count": null,
   "metadata": {},
   "outputs": [],
   "source": []
  }
 ],
 "metadata": {
  "kernelspec": {
   "display_name": "Python 3",
   "language": "python",
   "name": "python3"
  },
  "language_info": {
   "codemirror_mode": {
    "name": "ipython",
    "version": 3
   },
   "file_extension": ".py",
   "mimetype": "text/x-python",
   "name": "python",
   "nbconvert_exporter": "python",
   "pygments_lexer": "ipython3",
   "version": "3.7.3"
  }
 },
 "nbformat": 4,
 "nbformat_minor": 4
}
