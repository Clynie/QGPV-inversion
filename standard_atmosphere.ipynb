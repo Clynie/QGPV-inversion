{
 "cells": [
  {
   "cell_type": "code",
   "execution_count": 1,
   "metadata": {},
   "outputs": [],
   "source": [
    "import numpy as np"
   ]
  },
  {
   "cell_type": "code",
   "execution_count": 2,
   "metadata": {},
   "outputs": [],
   "source": [
    "pb = 1000.\n",
    "pb_half = 975.\n",
    "pt = 100.\n",
    "pt_half = 125."
   ]
  },
  {
   "cell_type": "code",
   "execution_count": 3,
   "metadata": {},
   "outputs": [],
   "source": [
    "g=9.8066\n",
    "kappa=0.2856219\n",
    "R=287.05\n",
    "p0=1.e5\n",
    "alpha=-1./5.255877\n",
    "cp = 1004.7"
   ]
  },
  {
   "cell_type": "code",
   "execution_count": 4,
   "metadata": {},
   "outputs": [],
   "source": [
    "p = np.linspace(pb,pt,19)\n",
    "p_half = np.linspace(pb_half,pt_half,18)"
   ]
  },
  {
   "cell_type": "markdown",
   "metadata": {},
   "source": [
    "Code below defines standard atmosphere geopotential, temperature, and stratification (on half-levels)"
   ]
  },
  {
   "cell_type": "code",
   "execution_count": 5,
   "metadata": {},
   "outputs": [],
   "source": [
    "def standard_atmosphere(p, p_half):\n",
    "    g=9.8066\n",
    "    kappa=0.2856219\n",
    "    alpha=-1./5.255877\n",
    "    beta=-6341.624\n",
    "    gamma=.0065\n",
    "    R=287.04\n",
    "    cp = 1004.7\n",
    "    p00=1.e5\n",
    "    nlevels = p.size\n",
    "    nlevels_half = p_half.size\n",
    "\n",
    "    Z = np.zeros(nlevels)\n",
    "    phi = np.zeros(nlevels)\n",
    "    T = np.zeros(nlevels)\n",
    "    theta = np.zeros(nlevels)\n",
    "\n",
    "    T_half = np.zeros(nlevels)\n",
    "    theta_half = np.zeros(nlevels_half)\n",
    "    dthetadp = np.zeros(nlevels_half)\n",
    "    S = np.zeros(nlevels_half)\n",
    "\n",
    "    for k in np.arange(nlevels):\n",
    "        if (p[k] > 226.32):\n",
    "            Z[k] = g*(288.15/gamma) * ( 1. - (1013.25/p[k])**alpha)\n",
    "            T[k] = 288.15 - 0.0065*Z[k]\n",
    "            theta[k] = T[k] * (1000./p[k])**(R/cp)\n",
    "        else:\n",
    "            T[k] = 216.65\n",
    "            Z[k] = g*(11.e3+beta*np.log(p[k]/226.32))\n",
    "            theta[k] = T[k] * (1000./p[k])**(R/cp)\n",
    "                \n",
    "    for k in np.arange(nlevels_half):\n",
    "        if (p_half[k] > 226.32):\n",
    "            T_half[k] = 288.15 - 0.0065*Z[k]\n",
    "            theta_half[k] = T_half[k] * (1000./p_half[k])**(R/cp)\n",
    "        else:\n",
    "            T_half[k] = 216.65\n",
    "            theta_half[k] = T_half[k] * (1000./p_half[k])**(R/cp)\n",
    "    \n",
    "    for k in np.arange(nlevels_half):\n",
    "        dthetadp[k] = (theta[k+1] - theta[k-1])/(1.e2*(p[k+1]-p[k-1]))\n",
    "        S[k] =  -R*(T_half[k]/theta_half[k])*dthetadp[k]/(p[k]*100.)\n",
    "    return g*Z, T, S"
   ]
  },
  {
   "cell_type": "code",
   "execution_count": 6,
   "metadata": {},
   "outputs": [
    {
     "name": "stdout",
     "output_type": "stream",
     "text": [
      "0\n",
      "1\n",
      "2\n",
      "3\n",
      "4\n",
      "5\n",
      "6\n",
      "7\n",
      "8\n",
      "9\n",
      "10\n",
      "11\n",
      "12\n",
      "13\n",
      "14\n",
      "15\n",
      "16\n",
      "17\n",
      "(array([  10663.6950352 ,   51963.92436738,   95063.51330908,\n",
      "        140147.69281393,  187433.09532096,  237175.43933892,\n",
      "        289679.75238627,  345314.22034486,  404529.34187002,\n",
      "        467885.05685608,  536090.24260362,  610062.10956684,\n",
      "        691019.04255285,  780632.69656955,  881292.13787904,\n",
      "        996598.13788779, 1133263.25323866, 1308711.97563434,\n",
      "       1555993.06126933]), array([ 281.0819012 ,  253.70732788,  225.14010498,  195.25745791,\n",
      "        163.91579859,  130.94563195,   96.14477999,   59.26920215,\n",
      "         20.02029937,  -21.97306707,  -67.18075448, -116.2107073 ,\n",
      "       -169.87049401, -229.2681192 , -295.98710116, -372.41409931,\n",
      "        216.65      ,  216.65      ,  216.65      ]), array([ 5.39154268e-06, -1.44973589e-05, -1.62447665e-05, -1.83196229e-05,\n",
      "       -2.08081645e-05, -2.38268142e-05, -2.75357574e-05, -3.21601965e-05,\n",
      "       -3.80246711e-05, -4.56104878e-05, -5.56558982e-05, -6.93396456e-05,\n",
      "       -8.86377259e-05, -1.17069021e-04, -1.61403179e-04,  5.70287860e-04,\n",
      "        8.07642722e-04,  7.93845423e-05]))\n"
     ]
    }
   ],
   "source": [
    "print( standard_atmosphere(p, p_half))"
   ]
  }
 ],
 "metadata": {
  "kernelspec": {
   "display_name": "Python 3",
   "language": "python",
   "name": "python3"
  },
  "language_info": {
   "codemirror_mode": {
    "name": "ipython",
    "version": 3
   },
   "file_extension": ".py",
   "mimetype": "text/x-python",
   "name": "python",
   "nbconvert_exporter": "python",
   "pygments_lexer": "ipython3",
   "version": "3.7.3"
  }
 },
 "nbformat": 4,
 "nbformat_minor": 4
}
