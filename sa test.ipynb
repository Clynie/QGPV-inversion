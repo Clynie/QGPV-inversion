{
 "cells": [
  {
   "cell_type": "code",
   "execution_count": 1,
   "metadata": {},
   "outputs": [],
   "source": [
    "import numpy as np\n",
    "import standard_atmosphere as sa"
   ]
  },
  {
   "cell_type": "markdown",
   "metadata": {},
   "source": [
    "### Case 1: increase pressure with Pa"
   ]
  },
  {
   "cell_type": "code",
   "execution_count": 4,
   "metadata": {},
   "outputs": [
    {
     "data": {
      "text/plain": [
       "array([494074.844377  , 438789.31691727, 396833.71599603, 372237.71103859,\n",
       "       341194.00423752, 320711.61759868, 298969.51103344, 274215.82860245,\n",
       "       256628.61646909, 231806.67653811, 214170.95996606, 200477.74298689,\n",
       "       179807.12680701, 157865.17996206, 132883.93387603, 115135.01264507,\n",
       "       101295.47987711,  89609.30073657,  79400.3511498 ,  70306.03033106,\n",
       "        62085.65249349,  54570.74193236,  47638.4621662 ,  41196.31118132,\n",
       "        35172.77649381,  29511.35506403,  24166.57575404,  19101.26666671,\n",
       "        14284.62529479,   9690.82288055,   7470.51562981,   5297.97401961,\n",
       "         3170.95160567,   1087.36196921])"
      ]
     },
     "execution_count": 4,
     "metadata": {},
     "output_type": "execute_result"
    }
   ],
   "source": [
    "increase_p = np.array([4.00e+01, 1.00e+02, 2.00e+02, 3.00e+02, 5.00e+02, 7.00e+02,\n",
    "       1.00e+03, 1.50e+03, 2.00e+03, 3.00e+03, 4.00e+03, 5.00e+03,\n",
    "       7.00e+03, 1.00e+04, 1.50e+04, 2.00e+04, 2.50e+04, 3.00e+04,\n",
    "       3.50e+04, 4.00e+04, 4.50e+04, 5.00e+04, 5.50e+04, 6.00e+04,\n",
    "       6.50e+04, 7.00e+04, 7.50e+04, 8.00e+04, 8.50e+04, 9.00e+04,\n",
    "       9.25e+04, 9.50e+04, 9.75e+04, 1.00e+05])\n",
    "Z, phi, T, S = sa.atmos_structure(increase_p)\n",
    "phi"
   ]
  },
  {
   "cell_type": "markdown",
   "metadata": {},
   "source": [
    "### Case 2: decrease pressure with Pa"
   ]
  },
  {
   "cell_type": "code",
   "execution_count": 5,
   "metadata": {},
   "outputs": [
    {
     "data": {
      "text/plain": [
       "array([  1087.36196921,   3170.95160567,   5297.97401961,   7470.51562981,\n",
       "         9690.82288055,  14284.62529479,  19101.26666671,  24166.57575404,\n",
       "        29511.35506403,  35172.77649381,  41196.31118132,  47638.4621662 ,\n",
       "        54570.74193236,  62085.65249349,  70306.03033106,  79400.3511498 ,\n",
       "        89609.30073657, 101295.47987711, 115135.01264507, 132883.93387603,\n",
       "       157865.17996206, 179807.12680701, 200477.74298689, 214170.95996606,\n",
       "       231806.67653811, 256628.61646909, 274215.82860245, 298969.51103344,\n",
       "       320711.61759868, 341194.00423752, 372237.71103859, 396833.71599603,\n",
       "       438789.31691727, 494074.844377  ])"
      ]
     },
     "execution_count": 5,
     "metadata": {},
     "output_type": "execute_result"
    }
   ],
   "source": [
    "decrease_p = increase_p[::-1]\n",
    "Z, phi, T, S = sa.atmos_structure(decrease_p)\n",
    "phi"
   ]
  },
  {
   "cell_type": "markdown",
   "metadata": {},
   "source": [
    "### Case 3: decreasing pressure with hPa"
   ]
  },
  {
   "cell_type": "code",
   "execution_count": 7,
   "metadata": {},
   "outputs": [
    {
     "data": {
      "text/plain": [
       "array([  1087.36196921,   5297.97401961,   9690.82288055,  14284.62529479,\n",
       "        19101.26666671,  24166.57575404,  29511.35506403,  35172.77649381,\n",
       "        41196.31118132,  47638.4621662 ,  54570.74193236,  62085.65249349,\n",
       "        70306.03033106,  79400.3511498 ,  89609.30073657, 101295.47987711,\n",
       "       115135.01264507, 132883.93387603])"
      ]
     },
     "execution_count": 7,
     "metadata": {},
     "output_type": "execute_result"
    }
   ],
   "source": [
    "decrease_p = np.arange(1000, 101, -50)\n",
    "Z, phi, T, S = sa.atmos_structure(decrease_p, unit='hPa')\n",
    "phi"
   ]
  },
  {
   "cell_type": "code",
   "execution_count": null,
   "metadata": {},
   "outputs": [],
   "source": []
  }
 ],
 "metadata": {
  "kernelspec": {
   "display_name": "Python 3",
   "language": "python",
   "name": "python3"
  },
  "language_info": {
   "codemirror_mode": {
    "name": "ipython",
    "version": 3
   },
   "file_extension": ".py",
   "mimetype": "text/x-python",
   "name": "python",
   "nbconvert_exporter": "python",
   "pygments_lexer": "ipython3",
   "version": "3.8.2"
  }
 },
 "nbformat": 4,
 "nbformat_minor": 4
}
