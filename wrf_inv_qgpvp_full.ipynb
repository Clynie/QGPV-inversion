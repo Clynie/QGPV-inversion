{
 "cells": [
  {
   "cell_type": "markdown",
   "metadata": {},
   "source": [
    "# WRF QGPV perturbation inversion calculation"
   ]
  },
  {
   "cell_type": "code",
   "execution_count": 1,
   "metadata": {},
   "outputs": [],
   "source": [
    "import numpy as np\n",
    "from numpy import *\n",
    "import matplotlib.pyplot as plt\n",
    "import netCDF4\n",
    "from netCDF4 import Dataset\n",
    "from wrf import tk, to_np, getvar, CoordPair, destagger, smooth2d, interplevel, vinterp, ll_to_xy, latlon_coords,get_cartopy,ALL_TIMES\n",
    "import time\n",
    "from matplotlib.cm import get_cmap\n",
    "import cartopy.crs as crs\n",
    "from cartopy.feature import NaturalEarthFeature\n",
    "import metpy.calc as mpcalc\n",
    "from metpy.units import units\n",
    "\n",
    "from wrf import (cartopy_xlim, cartopy_ylim, extract_times, interpz3d)"
   ]
  },
  {
   "cell_type": "code",
   "execution_count": 2,
   "metadata": {},
   "outputs": [],
   "source": [
    "#Define type of tile and desired pressure level\n",
    "#fullphys_expdom or nolatentheat_expdom\n",
    "filetype = \"fullphys_expdom\"                                   #CHANGE"
   ]
  },
  {
   "cell_type": "code",
   "execution_count": 3,
   "metadata": {},
   "outputs": [],
   "source": [
    "wrfout_fname = 'wrfout_'+filetype+'.nc'  # trajectory output\n",
    "wrfout = Dataset(wrfout_fname, 'r')  # Dataset is the class behavior to open the file"
   ]
  },
  {
   "cell_type": "code",
   "execution_count": 4,
   "metadata": {},
   "outputs": [],
   "source": [
    "msfm = wrfout.variables['MAPFAC_M'][0, :, :]     # Map scale factor on mass grid\n",
    "cor = wrfout.variables['F'][0,:, :]     # Coriolis parameter\n",
    "ds = 1./wrfout.variables['RDX'][0]     # grid spacing SAME IN ZONAL AND MERIDIONAL DIRECTIONS\n",
    "# Get the latitude and longitude points# Get the sea level pressure\n",
    "slp = getvar(wrfout, \"slp\", timeidx=ALL_TIMES)\n",
    "lats, lons = latlon_coords(slp)\n",
    "# Get the cartopy mapping object\n",
    "cart_proj = get_cartopy(slp)"
   ]
  },
  {
   "cell_type": "code",
   "execution_count": 5,
   "metadata": {},
   "outputs": [],
   "source": [
    "#Define constants\n",
    "R = 287.05 #J kg^-1 K^-1\n",
    "kappa=0.2856219 #Rd / cp\n",
    "cp = 1004.7 #J kg^-1 K^-1\n",
    "pref = 1000. #hPa\n",
    "g = 9.80665 #gravity\n",
    "omega = 7.292e-5 #Earth's rotation rate (s^-1)\n",
    "a = 2.e7 / np.pi #Radius of the earth (m)\n",
    "p0=1.e5\n",
    "alpha=-1./5.255877\n",
    "gamma = 0.0065 #lapse rate, (K/m)\n",
    "f0 = np.average(cor)\n",
    "dp = 50.e2"
   ]
  },
  {
   "cell_type": "code",
   "execution_count": 6,
   "metadata": {},
   "outputs": [],
   "source": [
    "from standard_atmosphere import standard_atmosphere\n",
    "pb = 1000.\n",
    "pb_half = 975.\n",
    "pt = 100.\n",
    "pt_half = 125.\n",
    "p_levels = np.linspace(pb,pt,19)\n",
    "p_half_levels = np.linspace(pb_half,pt_half,18)\n",
    "\n",
    "ZS,phiS,TS,SS=standard_atmosphere(p_levels, p_half_levels)"
   ]
  },
  {
   "cell_type": "code",
   "execution_count": 7,
   "metadata": {},
   "outputs": [],
   "source": [
    "#Get times from dataset\n",
    "times = extract_times(wrfout, None)\n",
    "count = np.count_nonzero(times)\n",
    "#Set t, k, i, j indice lengths\n",
    "tlen = len(times)\n",
    "klen = len(p_levels)\n",
    "jlen = np.shape(msfm)[0]\n",
    "ilen = np.shape(msfm)[1]"
   ]
  },
  {
   "cell_type": "code",
   "execution_count": 8,
   "metadata": {},
   "outputs": [],
   "source": [
    "#Format times to be in standard format\n",
    "dattimes = []\n",
    "import pandas as pd\n",
    "for i in range (0, count):\n",
    "    dattimes.append(str(pd.Timestamp(times[i])))"
   ]
  },
  {
   "cell_type": "code",
   "execution_count": 9,
   "metadata": {},
   "outputs": [],
   "source": [
    "# Geopotential height\n",
    "z = getvar(wrfout, \"z\", units=\"m\", timeidx=ALL_TIMES)\n",
    "T = getvar(wrfout,\"tk\", timeidx=ALL_TIMES)\n",
    "\n",
    "z_full = np.zeros((tlen,klen,jlen,ilen))\n",
    "T_full = np.zeros((tlen,klen,jlen,ilen))\n",
    "\n",
    "for t in np.arange(tlen):\n",
    "    z_full[t,:,:,:] = vinterp(wrfout, z[t,:,:,:], 'pressure', p_levels, extrapolate=True, field_type='z', log_p=True, timeidx=t,meta=False)\n",
    "    T_full[t,:,:,:] = vinterp(wrfout, T[t,:,:,:], 'pressure', p_levels, extrapolate=True, field_type='tk', log_p=True, timeidx=t,meta=False)"
   ]
  },
  {
   "cell_type": "code",
   "execution_count": 10,
   "metadata": {},
   "outputs": [],
   "source": [
    "def geostrophic_vorticity(tlen,num_levs,num_lats,num_lons,msfm,ds,f0,phi_prime):\n",
    "    import numpy as np\n",
    "\n",
    "    g=9.8066\n",
    "    qgpv_geovor = np.zeros([tlen,num_levs,num_lats,num_lons])\n",
    "\n",
    "    AC_1 = np.zeros([num_lats,num_lons])\n",
    "    AC_2 = np.zeros([num_lats,num_lons])\n",
    "    AC_3v = np.zeros([num_lats,num_lons])\n",
    "    AC_4 = np.zeros([num_lats,num_lons])\n",
    "    AC_5 = np.zeros([num_lats,num_lons])\n",
    "\n",
    "    for j in np.arange(1,num_lats-1):\n",
    "        for i in np.arange(1,num_lons-1): \n",
    "            AC_1[j,i] =    (msfm[j,i]**2.)/(f0*ds*ds)\n",
    "            AC_2[j,i] =    (msfm[j,i]**2.)/(f0*ds*ds)\n",
    "            AC_4[j,i] =    (msfm[j,i]**2.)/(f0*ds*ds)\n",
    "            AC_5[j,i] =    (msfm[j,i]**2.)/(f0*ds*ds)\n",
    "            AC_3v[j,i] = (-4*msfm[j,i]**2.)/(f0*ds*ds)\n",
    "\n",
    "    for t in np.arange(tlen):\n",
    "        for j in np.arange(1,num_lats-1):\n",
    "            for i in np.arange(1,num_lons-1):\n",
    "                qgpv_geovor[t,:,j,i]=AC_1[j,i]*phi_prime[t,:,j-1,i]+AC_2[j,i]*phi_prime[t,:,j,i-1]+ \\\n",
    "                AC_3v[j,i]*phi_prime[t,:,j,i]+AC_4[j,i]*phi_prime[t,:,j,i+1]+AC_5[j,i]*phi_prime[t,:,j+1,i]\n",
    "\n",
    "    return qgpv_geovor"
   ]
  },
  {
   "cell_type": "code",
   "execution_count": 11,
   "metadata": {},
   "outputs": [],
   "source": [
    "num_lats=lats.shape[0]\n",
    "num_lons=lons.shape[1]\n",
    "num_levs=p_levels.size\n",
    "\n",
    "g=9.8066\n",
    "\n",
    "f0 = np.average(cor)\n",
    "phi_prime=np.zeros([tlen,p_levels.size,num_lats,num_lons])\n",
    "\n",
    "for t in np.arange(tlen):\n",
    "    for k in np.arange(1,p_levels.size):\n",
    "        phi_prime[t,k,:]=g*(z_full[t,k,:]-ZS[k])\n",
    "    \n",
    "qgpv_geovor=geostrophic_vorticity(tlen,num_levs,num_lats,num_lons,msfm,ds,f0,phi_prime)"
   ]
  },
  {
   "cell_type": "code",
   "execution_count": 12,
   "metadata": {},
   "outputs": [],
   "source": [
    "def stretching_term(num_levs,num_lats,num_lons,msfm,ds,dp,f0,S,phip):\n",
    "\n",
    "    AC_3s=np.zeros([num_levs])\n",
    "    AC_6=np.zeros([num_levs])\n",
    "    AC_7=np.zeros([num_levs]) \n",
    "    \n",
    "    for k in np.arange(1,18):\n",
    "        AC_6[k]=f0/(S[k-1]*dp**2.)\n",
    "        AC_7[k]=f0/(S[k]  *dp**2.)\n",
    "        AC_3s[k]= -(AC_6[k]+AC_7[k])\n",
    "    strat=np.zeros([tlen,num_levs,num_lats,num_lons])\n",
    "    \n",
    "    for k in np.arange(1,num_levs-1):\n",
    "        for j in np.arange(1,num_lats-1):\n",
    "            for i in np.arange(1,num_lons-1):\n",
    "                strat[t,k,j,i] = AC_3s[k]*phip[t,k,j,i]+ AC_6[k]*phip[t,k-1,j,i]+ AC_7[k]*phip[t,k+1,j,i]\n",
    "    return strat"
   ]
  },
  {
   "cell_type": "code",
   "execution_count": 13,
   "metadata": {},
   "outputs": [],
   "source": [
    "qgpv_strtch = stretching_term(num_levs,num_lats,num_lons,msfm,ds,dp,f0,SS,phi_prime)\n",
    "qgpv = qgpv_geovor + qgpv_strtch"
   ]
  },
  {
   "cell_type": "code",
   "execution_count": 14,
   "metadata": {},
   "outputs": [],
   "source": [
    "qgpv_mean = np.zeros((klen,jlen,ilen))\n",
    "for k in np.arange(klen):\n",
    "    for j in np.arange(jlen):\n",
    "        for i in np.arange(ilen):\n",
    "            qgpv_mean[k,j,i]= np.squeeze(np.mean(qgpv[0:,k,j,i])) #Taking time mean of QGPV"
   ]
  },
  {
   "cell_type": "code",
   "execution_count": 15,
   "metadata": {},
   "outputs": [],
   "source": [
    "qgpvp = np.zeros([tlen,num_levs,num_lats,num_lons])\n",
    "for t in np.arange(tlen):\n",
    "    for k in np.arange(klen):\n",
    "        qgpvp[t,k,:] = qgpv[t,k,:]-qgpv_mean[k,:]"
   ]
  },
  {
   "cell_type": "code",
   "execution_count": 16,
   "metadata": {},
   "outputs": [],
   "source": [
    "# Geopotential height\n",
    "hght_all = getvar(wrfout, \"z\", units=\"m\", timeidx=ALL_TIMES)\n",
    "\n",
    "z_all = vinterp(wrfout, hght_all, 'pressure', p_levels, extrapolate=True, field_type='z', log_p=True, timeidx=ALL_TIMES,meta=False)"
   ]
  },
  {
   "cell_type": "code",
   "execution_count": 17,
   "metadata": {},
   "outputs": [],
   "source": [
    "zper = np.zeros((tlen,klen,jlen,ilen))\n",
    "for t in np.arange(tlen):\n",
    "    for k in np.arange(klen):\n",
    "        zper[t,k,:,:] = (z_all[t,k,:,:] - ZS[k])"
   ]
  },
  {
   "cell_type": "code",
   "execution_count": 18,
   "metadata": {},
   "outputs": [],
   "source": [
    "zper_mean = np.zeros((klen,jlen,ilen))\n",
    "for k in np.arange(klen):\n",
    "    for j in np.arange(jlen):\n",
    "        for i in np.arange(ilen):\n",
    "            zper_mean[k,j,i]= np.squeeze(np.mean(zper[0:,k,j,i]))"
   ]
  },
  {
   "cell_type": "code",
   "execution_count": 19,
   "metadata": {},
   "outputs": [
    {
     "name": "stdout",
     "output_type": "stream",
     "text": [
      "CPU times: user 68.7 ms, sys: 81.5 ms, total: 150 ms\n",
      "Wall time: 149 ms\n"
     ]
    }
   ],
   "source": [
    "%%time\n",
    "z_prime = np.zeros((tlen,klen,jlen,ilen))\n",
    "for t in np.arange(tlen):\n",
    "    for k in np.arange(klen):\n",
    "        z_prime[t,k,:,:] = zper[t,k,:,:] - zper_mean[k,:,:]"
   ]
  },
  {
   "cell_type": "code",
   "execution_count": 20,
   "metadata": {},
   "outputs": [],
   "source": [
    "dz_b = (z_prime[:,1,:,:]-z_prime[:,0,:,:])\n",
    "dz_t = (z_prime[:,-1,:,:]-z_prime[:,-2,:,:])\n",
    "\n",
    "Tb = ((g*dz_b)/R)/np.log(p_levels[0]/p_levels[1]) #pert temp at bottom level\n",
    "Tt = ((g*dz_t)/R)/np.log(p_levels[-2]/p_levels[-1]) #pert temp at top level"
   ]
  },
  {
   "cell_type": "code",
   "execution_count": 21,
   "metadata": {},
   "outputs": [],
   "source": [
    "def qgpv_invert(iterations,tlen,num_levs,num_lats,num_lons,p_levels,f0, ds, dp,msfm, SS,qgpv, Tb, Tt, BC, BC_flag):   \n",
    "    \n",
    "    import numpy as np\n",
    "    \n",
    "    R = 287.04\n",
    "    g = 9.8066\n",
    "    \n",
    "#BC_flag = 0 for Dirichlet and 1 for Neumann\n",
    "    res=np.zeros([tlen,num_levs,num_lats,num_lons])\n",
    "    phip = BC\n",
    "    \n",
    "\n",
    "# define coefficients\n",
    "\n",
    "    AC_3s=np.zeros([num_levs])\n",
    "    AC_6=np.zeros([num_levs])\n",
    "    AC_7=np.zeros([num_levs]) \n",
    "    \n",
    "    for k in np.arange(17):\n",
    "        AC_6[k+1]=f0/(SS[k]*dp**2.)\n",
    "        AC_7[k+1]=f0/(SS[k+1]  *dp**2.)\n",
    "        AC_3s[k+1]= -(AC_6[k+1]+AC_7[k+1])\n",
    "\n",
    "    mfs=np.zeros([num_lats,num_lons])\n",
    "    mfs[:] = (f0*ds*ds)/(msfm[:]**2.)\n",
    "\n",
    "    AI_1 = 1.\n",
    "    AI_2 = 1.\n",
    "    AI_4 = 1.\n",
    "    AI_5 = 1.\n",
    "    AI_3v = -4.\n",
    "\n",
    "    AI_3s=np.zeros([num_levs,num_lats,num_lons])\n",
    "    AI_6=np.zeros([num_levs,num_lats,num_lons])\n",
    "    AI_7=np.zeros([num_levs,num_lats,num_lons])\n",
    "\n",
    "    for k in np.arange(num_levs):\n",
    "        AI_6[k,:]  = mfs[:]*AC_6[k]\n",
    "        AI_7[k,:]  = mfs[:]*AC_7[k] \n",
    "        AI_3s[k,:] = mfs[:]*AC_3s[k]\n",
    "\n",
    "#####\n",
    "    for t in np.arange(tlen):\n",
    "        for num_iter in np.arange(iterations):\n",
    "            for k in np.arange(1,num_levs-1):\n",
    "                for j in np.arange(1,num_lats-1):\n",
    "                    for i in np.arange(1,num_lons-1):\n",
    "                        RES = AI_1*phip[t,k,j-1,i] + \\\n",
    "                        AI_2*phip[t,k,j,i-1] + \\\n",
    "                        (AI_3v+AI_3s[k,j,i])*phip[t,k,j,i] + \\\n",
    "                        AI_4*phip[t,k,j,i+1] + \\\n",
    "                        AI_5*phip[t,k,j+1,i] + \\\n",
    "                        AI_6[k,j,i]*phip[t,k-1,j,i] + \\\n",
    "                        AI_7[k,j,i]*phip[t,k+1,j,i] - qgpv[t,k,j,i]*mfs[j,i]\n",
    "                \n",
    "                        phip[t,k,j,i] = phip[t,k,j,i] - 1.8*RES/(AI_3v+AI_3s[k,j,i])\n",
    "                        res[t,k,j,i]=RES\n",
    "            if(BC_flag==1):\n",
    "                if(k==1): \n",
    "                    phip[t,0,:] = phip[t,1,:] - (R * Tb[t,:]/(100*p_levels[0]))*dp\n",
    "                if(k==num_levs-2): \n",
    "                    phip[t,-1,:] = phip[t,-2,:] + (R * Tt[t,:]/(100.*p_levels[-1]))*dp\n",
    "        if(np.amax(res/g)<.25): \n",
    "            print('stopping at iteration number: ', num_iter)\n",
    "            break\n",
    "    \n",
    "    return phip,res,num_iter"
   ]
  },
  {
   "cell_type": "code",
   "execution_count": 22,
   "metadata": {},
   "outputs": [
    {
     "name": "stdout",
     "output_type": "stream",
     "text": [
      "CPU times: user 1h 34min 49s, sys: 50.3 s, total: 1h 35min 39s\n",
      "Wall time: 1h 33min 15s\n"
     ]
    }
   ],
   "source": [
    "%%time\n",
    "iterations=50\n",
    "#BC effectivley sets first guess for inversion (here it is set to zero everywhere)\n",
    "BC =np.zeros([tlen,p_levels.size,num_lats,num_lons])\n",
    "res=np.zeros([tlen,p_levels.size,num_lats,num_lons])\n",
    "\n",
    "#qgpv_anomaly = np.zeros([p_levels.size,num_lats,num_lons])\n",
    "#for k in range(p_levels.size):\n",
    "#    BC[k,:]=9.81*(z_full[k,:]-ZS[k])\n",
    "BC_flag=1\n",
    "Tb=np.zeros([tlen,num_lats,num_lons])\n",
    "Tt=np.zeros([tlen,num_lats,num_lons])\n",
    "\n",
    "\n",
    "phip=np.zeros([p_levels.size,num_lats,num_lons])\n",
    "phip,res,num_iter=qgpv_invert(iterations,tlen,num_levs,num_lats,num_lons,p_levels,f0, ds, dp,msfm,SS,qgpvp, Tb, Tt, BC, BC_flag)"
   ]
  },
  {
   "cell_type": "code",
   "execution_count": 23,
   "metadata": {},
   "outputs": [
    {
     "name": "stdout",
     "output_type": "stream",
     "text": [
      "Number of iterations:  50\n",
      "Average residual:  3.8369788840784424e-16\n",
      "Absolute maximum residual:  62.44673272009962\n"
     ]
    }
   ],
   "source": [
    "print(\"Number of iterations: \", num_iter+1)\n",
    "print(\"Average residual: \", np.mean(res))  \n",
    "print(\"Absolute maximum residual: \", np.amax(res))"
   ]
  },
  {
   "cell_type": "code",
   "execution_count": 24,
   "metadata": {},
   "outputs": [],
   "source": [
    "#filetype = 'fullphys_expdom'"
   ]
  },
  {
   "cell_type": "code",
   "execution_count": 25,
   "metadata": {},
   "outputs": [],
   "source": [
    "#Save data to file for use in other notebooks\n",
    "import pickle\n",
    "with open('inv_qgpv_full_'+filetype+'.pkl', 'wb') as f:\n",
    "    pickle.dump([phip], f)"
   ]
  },
  {
   "cell_type": "code",
   "execution_count": 26,
   "metadata": {},
   "outputs": [],
   "source": [
    "#Load data from saved file\n",
    "#import pickle\n",
    "#with open('inv_qgpv_tot_trop_'+filetype+'.pkl', 'rb') as f:\n",
    "    #phip = pickle.load(f)\n",
    "    \n",
    "#phip = np.squeeze(phip)"
   ]
  },
  {
   "cell_type": "code",
   "execution_count": 27,
   "metadata": {},
   "outputs": [],
   "source": [
    "#print(np.shape(phip))"
   ]
  },
  {
   "cell_type": "code",
   "execution_count": 28,
   "metadata": {},
   "outputs": [],
   "source": [
    "lats, lons = latlon_coords(z)\n",
    "dx, dy = mpcalc.lat_lon_grid_deltas(lons, lats)"
   ]
  },
  {
   "cell_type": "code",
   "execution_count": 29,
   "metadata": {},
   "outputs": [],
   "source": [
    "lats = np.asarray(lats)\n",
    "lons = np.asarray(lons)"
   ]
  },
  {
   "cell_type": "code",
   "execution_count": 30,
   "metadata": {},
   "outputs": [],
   "source": [
    "lats_redo = lats\n",
    "lons_redo = lons"
   ]
  },
  {
   "cell_type": "code",
   "execution_count": 31,
   "metadata": {},
   "outputs": [],
   "source": [
    "#Account for cartopy plotting issue when longitude is less than 0.0\n",
    "for j in range(jlen):\n",
    "    for i in range(ilen):\n",
    "        if lons_redo[j,i] < 0.0:\n",
    "            lons_redo[j,i] = lons_redo[j,i] + 360.\n",
    "        else:\n",
    "            lons_redo[j,i] = lons_redo[j,i]"
   ]
  },
  {
   "cell_type": "code",
   "execution_count": 32,
   "metadata": {},
   "outputs": [],
   "source": [
    "lats = lats_redo\n",
    "lons = lons_redo"
   ]
  },
  {
   "cell_type": "code",
   "execution_count": 41,
   "metadata": {},
   "outputs": [
    {
     "name": "stdin",
     "output_type": "stream",
     "text": [
      "Enter desired level for inversion (300, 500, 850, or 950):  1000\n"
     ]
    }
   ],
   "source": [
    "levtitle = str(input('Enter desired level for inversion (300, 500, 850, or 950): '))"
   ]
  },
  {
   "cell_type": "code",
   "execution_count": 42,
   "metadata": {},
   "outputs": [],
   "source": [
    "if levtitle == \"300\":\n",
    "    lev = 14\n",
    "elif levtitle == \"500\":\n",
    "    lev = 10\n",
    "elif levtitle == \"850\":\n",
    "    lev = 3\n",
    "elif levtitle == \"900\":\n",
    "    lev = 2\n",
    "elif levtitle == \"950\":\n",
    "    lev = 1\n",
    "elif levtitle == \"1000\":\n",
    "    lev = 0"
   ]
  },
  {
   "cell_type": "code",
   "execution_count": 43,
   "metadata": {},
   "outputs": [],
   "source": [
    "#calculate winds determined by qgpv perturbation from inversion\n",
    "#U = np.zeros([tlen,klen,num_lats,num_lons])\n",
    "#V = np.zeros([tlen,klen,num_lats,num_lons])\n",
    "\n",
    "#for t in np.arange(tlen):\n",
    "    #for k in np.arange(klen):\n",
    "        #for j in np.arange(1,num_lats-1):\n",
    "            #for i in np.arange(1,num_lons-1):\n",
    "                #U[t,k,j,i] = -msfm[j,i]*0.5*(phip[t,k,j+1,i]-phip[t,k,j-1,i])/(f0*ds)\n",
    "                #V[t,k,j,i] =  msfm[j,i]*0.5*(phip[t,k,j,i+1]-phip[t,k,j,i-1])/(f0*ds)"
   ]
  },
  {
   "cell_type": "code",
   "execution_count": 44,
   "metadata": {},
   "outputs": [],
   "source": [
    "from scipy.ndimage.filters import gaussian_filter"
   ]
  },
  {
   "cell_type": "code",
   "execution_count": 45,
   "metadata": {},
   "outputs": [],
   "source": [
    "def plot_maxmin_points(lon, lat, data, extrema, nsize, symbol, color='k',\n",
    "                     plotValue=True, transform=None):\n",
    "    \"\"\"\n",
    "    This function will find and plot relative maximum and minimum for a 2D grid. The function\n",
    "    can be used to plot an H for maximum values (e.g., High pressure) and an L for minimum\n",
    "    values (e.g., low pressue). It is best to used filetered data to obtain  a synoptic scale\n",
    "    max/min value. The symbol text can be set to a string value and optionally the color of the\n",
    "    symbol and any plotted value can be set with the parameter color\n",
    "    lon = plotting longitude values (2D)\n",
    "    lat = plotting latitude values (2D)\n",
    "    data = 2D data that you wish to plot the max/min symbol placement\n",
    "    extrema = Either a value of max for Maximum Values or min for Minimum Values\n",
    "    nsize = Size of the grid box to filter the max and min values to plot a reasonable number\n",
    "    symbol = String to be placed at location of max/min value\n",
    "    color = String matplotlib colorname to plot the symbol (and numerica value, if plotted)\n",
    "    plot_value = Boolean (True/False) of whether to plot the numeric value of max/min point\n",
    "    The max/min symbol will be plotted on the current axes within the bounding frame\n",
    "    (e.g., clip_on=True)\n",
    "    \"\"\"\n",
    "    from scipy.ndimage.filters import maximum_filter, minimum_filter\n",
    "\n",
    "    if (extrema == 'max'):\n",
    "        data_ext = maximum_filter(data, nsize, mode='nearest')\n",
    "    elif (extrema == 'min'):\n",
    "        data_ext = minimum_filter(data, nsize, mode='nearest')\n",
    "    else:\n",
    "        raise ValueError('Value for hilo must be either max or min')\n",
    "\n",
    "    mxy, mxx = np.where(data_ext == data)\n",
    "\n",
    "    for i in range(len(mxy)):\n",
    "        ax.text(lon[mxy[i], mxx[i]], lat[mxy[i], mxx[i]], symbol, color=color, size=24,\n",
    "                clip_on=True, horizontalalignment='center', verticalalignment='center',\n",
    "                transform=transform)"
   ]
  },
  {
   "cell_type": "code",
   "execution_count": 48,
   "metadata": {},
   "outputs": [
    {
     "name": "stdout",
     "output_type": "stream",
     "text": [
      "Working on time:  2019-11-25 12:00:00\n"
     ]
    },
    {
     "name": "stderr",
     "output_type": "stream",
     "text": [
      "/opt/anaconda3/lib/python3.7/site-packages/cartopy/mpl/geoaxes.py:1366: UserWarning: No contour levels were found within the data range.\n",
      "  result = matplotlib.axes.Axes.contour(self, *args, **kwargs)\n"
     ]
    },
    {
     "name": "stdout",
     "output_type": "stream",
     "text": [
      "Working on time:  2019-11-25 15:00:00\n"
     ]
    },
    {
     "name": "stderr",
     "output_type": "stream",
     "text": [
      "/opt/anaconda3/lib/python3.7/site-packages/cartopy/mpl/geoaxes.py:1366: UserWarning: No contour levels were found within the data range.\n",
      "  result = matplotlib.axes.Axes.contour(self, *args, **kwargs)\n"
     ]
    },
    {
     "name": "stdout",
     "output_type": "stream",
     "text": [
      "Working on time:  2019-11-25 18:00:00\n"
     ]
    },
    {
     "name": "stderr",
     "output_type": "stream",
     "text": [
      "/opt/anaconda3/lib/python3.7/site-packages/cartopy/mpl/geoaxes.py:1366: UserWarning: No contour levels were found within the data range.\n",
      "  result = matplotlib.axes.Axes.contour(self, *args, **kwargs)\n"
     ]
    },
    {
     "name": "stdout",
     "output_type": "stream",
     "text": [
      "Working on time:  2019-11-25 21:00:00\n"
     ]
    },
    {
     "name": "stderr",
     "output_type": "stream",
     "text": [
      "/opt/anaconda3/lib/python3.7/site-packages/cartopy/mpl/geoaxes.py:1366: UserWarning: No contour levels were found within the data range.\n",
      "  result = matplotlib.axes.Axes.contour(self, *args, **kwargs)\n"
     ]
    },
    {
     "name": "stdout",
     "output_type": "stream",
     "text": [
      "Working on time:  2019-11-26 00:00:00\n"
     ]
    },
    {
     "name": "stderr",
     "output_type": "stream",
     "text": [
      "/opt/anaconda3/lib/python3.7/site-packages/cartopy/mpl/geoaxes.py:1366: UserWarning: No contour levels were found within the data range.\n",
      "  result = matplotlib.axes.Axes.contour(self, *args, **kwargs)\n"
     ]
    },
    {
     "name": "stdout",
     "output_type": "stream",
     "text": [
      "Working on time:  2019-11-26 03:00:00\n"
     ]
    },
    {
     "name": "stderr",
     "output_type": "stream",
     "text": [
      "/opt/anaconda3/lib/python3.7/site-packages/cartopy/mpl/geoaxes.py:1366: UserWarning: No contour levels were found within the data range.\n",
      "  result = matplotlib.axes.Axes.contour(self, *args, **kwargs)\n"
     ]
    },
    {
     "name": "stdout",
     "output_type": "stream",
     "text": [
      "Working on time:  2019-11-26 06:00:00\n"
     ]
    },
    {
     "name": "stderr",
     "output_type": "stream",
     "text": [
      "/opt/anaconda3/lib/python3.7/site-packages/cartopy/mpl/geoaxes.py:1366: UserWarning: No contour levels were found within the data range.\n",
      "  result = matplotlib.axes.Axes.contour(self, *args, **kwargs)\n"
     ]
    },
    {
     "name": "stdout",
     "output_type": "stream",
     "text": [
      "Working on time:  2019-11-26 09:00:00\n"
     ]
    },
    {
     "name": "stderr",
     "output_type": "stream",
     "text": [
      "/opt/anaconda3/lib/python3.7/site-packages/cartopy/mpl/geoaxes.py:1366: UserWarning: No contour levels were found within the data range.\n",
      "  result = matplotlib.axes.Axes.contour(self, *args, **kwargs)\n"
     ]
    },
    {
     "name": "stdout",
     "output_type": "stream",
     "text": [
      "Working on time:  2019-11-26 12:00:00\n"
     ]
    },
    {
     "name": "stderr",
     "output_type": "stream",
     "text": [
      "/opt/anaconda3/lib/python3.7/site-packages/cartopy/mpl/geoaxes.py:1366: UserWarning: No contour levels were found within the data range.\n",
      "  result = matplotlib.axes.Axes.contour(self, *args, **kwargs)\n"
     ]
    },
    {
     "name": "stdout",
     "output_type": "stream",
     "text": [
      "Working on time:  2019-11-26 15:00:00\n"
     ]
    },
    {
     "name": "stderr",
     "output_type": "stream",
     "text": [
      "/opt/anaconda3/lib/python3.7/site-packages/cartopy/mpl/geoaxes.py:1366: UserWarning: No contour levels were found within the data range.\n",
      "  result = matplotlib.axes.Axes.contour(self, *args, **kwargs)\n"
     ]
    },
    {
     "name": "stdout",
     "output_type": "stream",
     "text": [
      "Working on time:  2019-11-26 18:00:00\n"
     ]
    },
    {
     "name": "stderr",
     "output_type": "stream",
     "text": [
      "/opt/anaconda3/lib/python3.7/site-packages/cartopy/mpl/geoaxes.py:1366: UserWarning: No contour levels were found within the data range.\n",
      "  result = matplotlib.axes.Axes.contour(self, *args, **kwargs)\n"
     ]
    },
    {
     "name": "stdout",
     "output_type": "stream",
     "text": [
      "Working on time:  2019-11-26 21:00:00\n"
     ]
    },
    {
     "name": "stderr",
     "output_type": "stream",
     "text": [
      "/opt/anaconda3/lib/python3.7/site-packages/cartopy/mpl/geoaxes.py:1366: UserWarning: No contour levels were found within the data range.\n",
      "  result = matplotlib.axes.Axes.contour(self, *args, **kwargs)\n"
     ]
    },
    {
     "name": "stdout",
     "output_type": "stream",
     "text": [
      "Working on time:  2019-11-27 00:00:00\n"
     ]
    },
    {
     "name": "stderr",
     "output_type": "stream",
     "text": [
      "/opt/anaconda3/lib/python3.7/site-packages/cartopy/mpl/geoaxes.py:1366: UserWarning: No contour levels were found within the data range.\n",
      "  result = matplotlib.axes.Axes.contour(self, *args, **kwargs)\n"
     ]
    },
    {
     "name": "stdout",
     "output_type": "stream",
     "text": [
      "Working on time:  2019-11-27 03:00:00\n"
     ]
    },
    {
     "name": "stderr",
     "output_type": "stream",
     "text": [
      "/opt/anaconda3/lib/python3.7/site-packages/cartopy/mpl/geoaxes.py:1366: UserWarning: No contour levels were found within the data range.\n",
      "  result = matplotlib.axes.Axes.contour(self, *args, **kwargs)\n"
     ]
    },
    {
     "name": "stdout",
     "output_type": "stream",
     "text": [
      "Working on time:  2019-11-27 06:00:00\n"
     ]
    },
    {
     "name": "stderr",
     "output_type": "stream",
     "text": [
      "/opt/anaconda3/lib/python3.7/site-packages/cartopy/mpl/geoaxes.py:1366: UserWarning: No contour levels were found within the data range.\n",
      "  result = matplotlib.axes.Axes.contour(self, *args, **kwargs)\n"
     ]
    },
    {
     "name": "stdout",
     "output_type": "stream",
     "text": [
      "Working on time:  2019-11-27 09:00:00\n"
     ]
    },
    {
     "name": "stderr",
     "output_type": "stream",
     "text": [
      "/opt/anaconda3/lib/python3.7/site-packages/cartopy/mpl/geoaxes.py:1366: UserWarning: No contour levels were found within the data range.\n",
      "  result = matplotlib.axes.Axes.contour(self, *args, **kwargs)\n"
     ]
    },
    {
     "name": "stdout",
     "output_type": "stream",
     "text": [
      "Working on time:  2019-11-27 12:00:00\n"
     ]
    },
    {
     "name": "stderr",
     "output_type": "stream",
     "text": [
      "/opt/anaconda3/lib/python3.7/site-packages/cartopy/mpl/geoaxes.py:1366: UserWarning: No contour levels were found within the data range.\n",
      "  result = matplotlib.axes.Axes.contour(self, *args, **kwargs)\n"
     ]
    },
    {
     "name": "stdout",
     "output_type": "stream",
     "text": [
      "Working on time:  2019-11-27 15:00:00\n"
     ]
    },
    {
     "name": "stderr",
     "output_type": "stream",
     "text": [
      "/opt/anaconda3/lib/python3.7/site-packages/cartopy/mpl/geoaxes.py:1366: UserWarning: No contour levels were found within the data range.\n",
      "  result = matplotlib.axes.Axes.contour(self, *args, **kwargs)\n"
     ]
    },
    {
     "name": "stdout",
     "output_type": "stream",
     "text": [
      "Working on time:  2019-11-27 18:00:00\n"
     ]
    },
    {
     "name": "stderr",
     "output_type": "stream",
     "text": [
      "/opt/anaconda3/lib/python3.7/site-packages/cartopy/mpl/geoaxes.py:1366: UserWarning: No contour levels were found within the data range.\n",
      "  result = matplotlib.axes.Axes.contour(self, *args, **kwargs)\n"
     ]
    },
    {
     "name": "stdout",
     "output_type": "stream",
     "text": [
      "Working on time:  2019-11-27 21:00:00\n"
     ]
    },
    {
     "name": "stderr",
     "output_type": "stream",
     "text": [
      "/opt/anaconda3/lib/python3.7/site-packages/cartopy/mpl/geoaxes.py:1366: UserWarning: No contour levels were found within the data range.\n",
      "  result = matplotlib.axes.Axes.contour(self, *args, **kwargs)\n"
     ]
    },
    {
     "name": "stdout",
     "output_type": "stream",
     "text": [
      "Working on time:  2019-11-28 00:00:00\n"
     ]
    },
    {
     "name": "stderr",
     "output_type": "stream",
     "text": [
      "/opt/anaconda3/lib/python3.7/site-packages/cartopy/mpl/geoaxes.py:1366: UserWarning: No contour levels were found within the data range.\n",
      "  result = matplotlib.axes.Axes.contour(self, *args, **kwargs)\n"
     ]
    }
   ],
   "source": [
    "#PLOTTING FOR GEOPOTENTIAL HEIGHT ANOMALY\n",
    "for i in range (tlen):\n",
    "    print(\"Working on time: \", dattimes[i])\n",
    "    \n",
    "    # Get the map projection information\n",
    "    cart_proj = get_cartopy(wrfin=wrfout)\n",
    "    \n",
    "    # Create the figure\n",
    "    fig = plt.figure(figsize=(12,9))\n",
    "    ax = plt.axes(projection=cart_proj)\n",
    "    # Download and add the states and coastlines\n",
    "    states = NaturalEarthFeature(category=\"cultural\", scale=\"50m\",\n",
    "                             facecolor=\"none\",\n",
    "                             name=\"admin_1_states_provinces_shp\")\n",
    "    ax.add_feature(states, linewidth=0.5, edgecolor=\"black\")\n",
    "    ax.coastlines('50m', linewidth=0.8)\n",
    "\n",
    "    tmp1 = phip[i,lev,:,:]\n",
    "    tmp2 = slp[i,:,:]\n",
    "    \n",
    "    #FOR EASY, COLORFUL VISUALIZATION\n",
    "    #qgcs = plt.pcolormesh(to_np(lons_redo), to_np(lats_redo), to_np(tmp1),\n",
    "                                #cmap='bwr', vmin=-100, vmax=100,\n",
    "                                #transform=crs.PlateCarree())\n",
    "    #plt.colorbar(qgcs, ax=ax, orientation=\"horizontal\", pad=.05)\n",
    "    \n",
    "    #FOR PROPER, PAPER-READY PLOTS\n",
    "    levels = [-400,-380,-360,-340,-320,-300,-280,-260,-240,-220,-200,-180,-160,-140,\n",
    "              -120,-100,-80,-60,-40,-20,20,40,60,80,100,120,140,\n",
    "              160,180,200,220,240,260,280,300]\n",
    "    qgcts = plt.contour(to_np(lons_redo), to_np(lats_redo), gaussian_filter(to_np(tmp1),3), levels=levels, transform=crs.PlateCarree(), colors=\"black\")\n",
    "    plt.clabel(qgcts, fmt='%.1f', inline=True,inline_spacing=-2.)\n",
    "\n",
    "    plot_maxmin_points(to_np(lons_redo), to_np(lats_redo), gaussian_filter(to_np(tmp2),3), 'min', 25, symbol='L', color='black', transform=crs.PlateCarree())\n",
    "\n",
    "    # Set the map bounds\n",
    "    ax.set_xlim(cartopy_xlim(z))\n",
    "    ax.set_ylim(cartopy_ylim(z))\n",
    "\n",
    "    ax.gridlines(color=\"black\", linestyle=\"dotted\")\n",
    "\n",
    "    #Zoom in on object storm\n",
    "    ax.set_extent([-160, -110, 35, 55]) #lon,lon,lat,lat\n",
    "\n",
    "    ax.set_title('WRF '+levtitle+'-hPa Inverted Geopotential Height Anomaly (m^2 / s^2) from full QGPV Perturbation \\n Valid Time: {}'.format(dattimes[i]))\n",
    "    #($\\frac{m}{s^{-2}}$)\n",
    "\n",
    "    plt.savefig('plots/inv_full/'+filetype+'/geopanom/geopanom_'+levtitle+'_'+filetype+'_{}.pdf'.format(dattimes[i]))\n",
    "    plt.close()"
   ]
  },
  {
   "cell_type": "code",
   "execution_count": 47,
   "metadata": {},
   "outputs": [
    {
     "name": "stdout",
     "output_type": "stream",
     "text": [
      "Working on time:  2019-11-25 12:00:00\n"
     ]
    },
    {
     "name": "stderr",
     "output_type": "stream",
     "text": [
      "/opt/anaconda3/lib/python3.7/site-packages/cartopy/mpl/geoaxes.py:1366: UserWarning: No contour levels were found within the data range.\n",
      "  result = matplotlib.axes.Axes.contour(self, *args, **kwargs)\n"
     ]
    },
    {
     "name": "stdout",
     "output_type": "stream",
     "text": [
      "Working on time:  2019-11-25 15:00:00\n"
     ]
    },
    {
     "name": "stderr",
     "output_type": "stream",
     "text": [
      "/opt/anaconda3/lib/python3.7/site-packages/cartopy/mpl/geoaxes.py:1366: UserWarning: No contour levels were found within the data range.\n",
      "  result = matplotlib.axes.Axes.contour(self, *args, **kwargs)\n"
     ]
    },
    {
     "name": "stdout",
     "output_type": "stream",
     "text": [
      "Working on time:  2019-11-25 18:00:00\n"
     ]
    },
    {
     "name": "stderr",
     "output_type": "stream",
     "text": [
      "/opt/anaconda3/lib/python3.7/site-packages/cartopy/mpl/geoaxes.py:1366: UserWarning: No contour levels were found within the data range.\n",
      "  result = matplotlib.axes.Axes.contour(self, *args, **kwargs)\n"
     ]
    },
    {
     "name": "stdout",
     "output_type": "stream",
     "text": [
      "Working on time:  2019-11-25 21:00:00\n"
     ]
    },
    {
     "name": "stderr",
     "output_type": "stream",
     "text": [
      "/opt/anaconda3/lib/python3.7/site-packages/cartopy/mpl/geoaxes.py:1366: UserWarning: No contour levels were found within the data range.\n",
      "  result = matplotlib.axes.Axes.contour(self, *args, **kwargs)\n"
     ]
    },
    {
     "name": "stdout",
     "output_type": "stream",
     "text": [
      "Working on time:  2019-11-26 00:00:00\n"
     ]
    },
    {
     "name": "stderr",
     "output_type": "stream",
     "text": [
      "/opt/anaconda3/lib/python3.7/site-packages/cartopy/mpl/geoaxes.py:1366: UserWarning: No contour levels were found within the data range.\n",
      "  result = matplotlib.axes.Axes.contour(self, *args, **kwargs)\n"
     ]
    },
    {
     "name": "stdout",
     "output_type": "stream",
     "text": [
      "Working on time:  2019-11-26 03:00:00\n"
     ]
    },
    {
     "name": "stderr",
     "output_type": "stream",
     "text": [
      "/opt/anaconda3/lib/python3.7/site-packages/cartopy/mpl/geoaxes.py:1366: UserWarning: No contour levels were found within the data range.\n",
      "  result = matplotlib.axes.Axes.contour(self, *args, **kwargs)\n"
     ]
    },
    {
     "name": "stdout",
     "output_type": "stream",
     "text": [
      "Working on time:  2019-11-26 06:00:00\n"
     ]
    },
    {
     "name": "stderr",
     "output_type": "stream",
     "text": [
      "/opt/anaconda3/lib/python3.7/site-packages/cartopy/mpl/geoaxes.py:1366: UserWarning: No contour levels were found within the data range.\n",
      "  result = matplotlib.axes.Axes.contour(self, *args, **kwargs)\n"
     ]
    },
    {
     "name": "stdout",
     "output_type": "stream",
     "text": [
      "Working on time:  2019-11-26 09:00:00\n"
     ]
    },
    {
     "name": "stderr",
     "output_type": "stream",
     "text": [
      "/opt/anaconda3/lib/python3.7/site-packages/cartopy/mpl/geoaxes.py:1366: UserWarning: No contour levels were found within the data range.\n",
      "  result = matplotlib.axes.Axes.contour(self, *args, **kwargs)\n"
     ]
    },
    {
     "name": "stdout",
     "output_type": "stream",
     "text": [
      "Working on time:  2019-11-26 12:00:00\n"
     ]
    },
    {
     "name": "stderr",
     "output_type": "stream",
     "text": [
      "/opt/anaconda3/lib/python3.7/site-packages/cartopy/mpl/geoaxes.py:1366: UserWarning: No contour levels were found within the data range.\n",
      "  result = matplotlib.axes.Axes.contour(self, *args, **kwargs)\n"
     ]
    },
    {
     "name": "stdout",
     "output_type": "stream",
     "text": [
      "Working on time:  2019-11-26 15:00:00\n"
     ]
    },
    {
     "name": "stderr",
     "output_type": "stream",
     "text": [
      "/opt/anaconda3/lib/python3.7/site-packages/cartopy/mpl/geoaxes.py:1366: UserWarning: No contour levels were found within the data range.\n",
      "  result = matplotlib.axes.Axes.contour(self, *args, **kwargs)\n"
     ]
    },
    {
     "name": "stdout",
     "output_type": "stream",
     "text": [
      "Working on time:  2019-11-26 18:00:00\n"
     ]
    },
    {
     "name": "stderr",
     "output_type": "stream",
     "text": [
      "/opt/anaconda3/lib/python3.7/site-packages/cartopy/mpl/geoaxes.py:1366: UserWarning: No contour levels were found within the data range.\n",
      "  result = matplotlib.axes.Axes.contour(self, *args, **kwargs)\n"
     ]
    },
    {
     "name": "stdout",
     "output_type": "stream",
     "text": [
      "Working on time:  2019-11-26 21:00:00\n"
     ]
    },
    {
     "name": "stderr",
     "output_type": "stream",
     "text": [
      "/opt/anaconda3/lib/python3.7/site-packages/cartopy/mpl/geoaxes.py:1366: UserWarning: No contour levels were found within the data range.\n",
      "  result = matplotlib.axes.Axes.contour(self, *args, **kwargs)\n"
     ]
    },
    {
     "name": "stdout",
     "output_type": "stream",
     "text": [
      "Working on time:  2019-11-27 00:00:00\n"
     ]
    },
    {
     "name": "stderr",
     "output_type": "stream",
     "text": [
      "/opt/anaconda3/lib/python3.7/site-packages/cartopy/mpl/geoaxes.py:1366: UserWarning: No contour levels were found within the data range.\n",
      "  result = matplotlib.axes.Axes.contour(self, *args, **kwargs)\n"
     ]
    },
    {
     "name": "stdout",
     "output_type": "stream",
     "text": [
      "Working on time:  2019-11-27 03:00:00\n"
     ]
    },
    {
     "name": "stderr",
     "output_type": "stream",
     "text": [
      "/opt/anaconda3/lib/python3.7/site-packages/cartopy/mpl/geoaxes.py:1366: UserWarning: No contour levels were found within the data range.\n",
      "  result = matplotlib.axes.Axes.contour(self, *args, **kwargs)\n"
     ]
    },
    {
     "name": "stdout",
     "output_type": "stream",
     "text": [
      "Working on time:  2019-11-27 06:00:00\n"
     ]
    },
    {
     "name": "stderr",
     "output_type": "stream",
     "text": [
      "/opt/anaconda3/lib/python3.7/site-packages/cartopy/mpl/geoaxes.py:1366: UserWarning: No contour levels were found within the data range.\n",
      "  result = matplotlib.axes.Axes.contour(self, *args, **kwargs)\n"
     ]
    },
    {
     "name": "stdout",
     "output_type": "stream",
     "text": [
      "Working on time:  2019-11-27 09:00:00\n"
     ]
    },
    {
     "name": "stderr",
     "output_type": "stream",
     "text": [
      "/opt/anaconda3/lib/python3.7/site-packages/cartopy/mpl/geoaxes.py:1366: UserWarning: No contour levels were found within the data range.\n",
      "  result = matplotlib.axes.Axes.contour(self, *args, **kwargs)\n"
     ]
    },
    {
     "name": "stdout",
     "output_type": "stream",
     "text": [
      "Working on time:  2019-11-27 12:00:00\n"
     ]
    },
    {
     "name": "stderr",
     "output_type": "stream",
     "text": [
      "/opt/anaconda3/lib/python3.7/site-packages/cartopy/mpl/geoaxes.py:1366: UserWarning: No contour levels were found within the data range.\n",
      "  result = matplotlib.axes.Axes.contour(self, *args, **kwargs)\n"
     ]
    },
    {
     "name": "stdout",
     "output_type": "stream",
     "text": [
      "Working on time:  2019-11-27 15:00:00\n"
     ]
    },
    {
     "name": "stderr",
     "output_type": "stream",
     "text": [
      "/opt/anaconda3/lib/python3.7/site-packages/cartopy/mpl/geoaxes.py:1366: UserWarning: No contour levels were found within the data range.\n",
      "  result = matplotlib.axes.Axes.contour(self, *args, **kwargs)\n"
     ]
    },
    {
     "name": "stdout",
     "output_type": "stream",
     "text": [
      "Working on time:  2019-11-27 18:00:00\n"
     ]
    },
    {
     "name": "stderr",
     "output_type": "stream",
     "text": [
      "/opt/anaconda3/lib/python3.7/site-packages/cartopy/mpl/geoaxes.py:1366: UserWarning: No contour levels were found within the data range.\n",
      "  result = matplotlib.axes.Axes.contour(self, *args, **kwargs)\n"
     ]
    },
    {
     "name": "stdout",
     "output_type": "stream",
     "text": [
      "Working on time:  2019-11-27 21:00:00\n"
     ]
    },
    {
     "name": "stderr",
     "output_type": "stream",
     "text": [
      "/opt/anaconda3/lib/python3.7/site-packages/cartopy/mpl/geoaxes.py:1366: UserWarning: No contour levels were found within the data range.\n",
      "  result = matplotlib.axes.Axes.contour(self, *args, **kwargs)\n"
     ]
    },
    {
     "name": "stdout",
     "output_type": "stream",
     "text": [
      "Working on time:  2019-11-28 00:00:00\n"
     ]
    },
    {
     "name": "stderr",
     "output_type": "stream",
     "text": [
      "/opt/anaconda3/lib/python3.7/site-packages/cartopy/mpl/geoaxes.py:1366: UserWarning: No contour levels were found within the data range.\n",
      "  result = matplotlib.axes.Axes.contour(self, *args, **kwargs)\n"
     ]
    }
   ],
   "source": [
    "#PLOTTING FOR HEIGHT ANOMALY\n",
    "for i in range (tlen):\n",
    "    print(\"Working on time: \", dattimes[i])\n",
    "    \n",
    "    # Get the map projection information\n",
    "    cart_proj = get_cartopy(wrfin=wrfout)\n",
    "    \n",
    "    # Create the figure\n",
    "    fig = plt.figure(figsize=(12,9))\n",
    "    ax = plt.axes(projection=cart_proj)\n",
    "    # Download and add the states and coastlines\n",
    "    states = NaturalEarthFeature(category=\"cultural\", scale=\"50m\",\n",
    "                             facecolor=\"none\",\n",
    "                             name=\"admin_1_states_provinces_shp\")\n",
    "    ax.add_feature(states, linewidth=0.5, edgecolor=\"black\")\n",
    "    ax.coastlines('50m', linewidth=0.8)\n",
    "\n",
    "    tmp1 = phip[i,lev,:,:] / g\n",
    "    tmp2 = slp[i,:,:]\n",
    "    \n",
    "    #FOR EASY, COLORFUL VISUALIZATION\n",
    "    #qgcs = plt.pcolormesh(to_np(lons_redo), to_np(lats_redo), to_np(tmp1),\n",
    "                                #cmap='bwr', vmin=-100, vmax=100,\n",
    "                                #transform=crs.PlateCarree())\n",
    "    #plt.colorbar(qgcs, ax=ax, orientation=\"horizontal\", pad=.05)\n",
    "    \n",
    "    #FOR PROPER, PAPER-READY PLOTS\n",
    "    levels = [-40,-36,-32,-28,-24,-20,-16,-12,-8,-4,4,8,12,16,20,24,28,32,36,40]\n",
    "    qgcts = plt.contour(to_np(lons_redo), to_np(lats_redo), gaussian_filter(to_np(tmp1),3), levels=levels, transform=crs.PlateCarree(), colors=\"black\")\n",
    "    plt.clabel(qgcts, fmt='%.1f', inline=True, inline_spacing=-2.)\n",
    "\n",
    "    plot_maxmin_points(to_np(lons_redo), to_np(lats_redo), gaussian_filter(to_np(tmp2),3), 'min', 25, symbol='L', color='black', transform=crs.PlateCarree())\n",
    "\n",
    "    # Set the map bounds\n",
    "    ax.set_xlim(cartopy_xlim(z))\n",
    "    ax.set_ylim(cartopy_ylim(z))\n",
    "\n",
    "    ax.gridlines(color=\"black\", linestyle=\"dotted\")\n",
    "\n",
    "    #Zoom in on object storm\n",
    "    ax.set_extent([-160, -110, 35, 55]) #lon,lon,lat,lat\n",
    "\n",
    "    ax.set_title('WRF '+levtitle+'-hPa Inverted Height Anomaly (m) from full QGPV Perturbation \\n Valid Time: {}'.format(dattimes[i]))\n",
    "    #($\\frac{m}{s^{-2}}$)\n",
    "\n",
    "    plt.savefig('plots/inv_full/'+filetype+'/hghtanom/hghtanom_'+levtitle+'_'+filetype+'_{}.pdf'.format(dattimes[i]))\n",
    "    plt.close()"
   ]
  },
  {
   "cell_type": "code",
   "execution_count": 40,
   "metadata": {},
   "outputs": [],
   "source": [
    "    #tmp2 = U[i,lev,:,:]\n",
    "    #tmp3 = V[i,lev,:,:]\n",
    "    \n",
    "    #SCALE = .25\n",
    "    #quiver_slices = (slice(None, None, 7), slice(None, None, 7))\n",
    "    #quiver_kwargs = {'headlength': 4, 'headwidth': 3,\n",
    "                 #'scale': 100}\n",
    "\n",
    "    #ax.quiver(to_np(lons[quiver_slices]),to_np(lats[quiver_slices]), \\\n",
    "        #tmp2[::7,::7]*SCALE, tmp3[::7,::7]*SCALE,color='blue',\\\n",
    "        #transform=crs.PlateCarree(),**quiver_kwargs)"
   ]
  }
 ],
 "metadata": {
  "kernelspec": {
   "display_name": "Python 3",
   "language": "python",
   "name": "python3"
  },
  "language_info": {
   "codemirror_mode": {
    "name": "ipython",
    "version": 3
   },
   "file_extension": ".py",
   "mimetype": "text/x-python",
   "name": "python",
   "nbconvert_exporter": "python",
   "pygments_lexer": "ipython3",
   "version": "3.7.3"
  }
 },
 "nbformat": 4,
 "nbformat_minor": 4
}
